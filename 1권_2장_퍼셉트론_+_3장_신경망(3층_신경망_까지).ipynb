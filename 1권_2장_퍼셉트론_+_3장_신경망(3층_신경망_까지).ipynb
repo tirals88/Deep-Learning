{
  "nbformat": 4,
  "nbformat_minor": 0,
  "metadata": {
    "colab": {
      "name": "1권 2장 퍼셉트론 + 3장 신경망(3층 신경망 까지).ipynb",
      "provenance": [],
      "collapsed_sections": [
        "mSvnn-ZWd9ef",
        "UhcQBmxwO5Vm"
      ],
      "authorship_tag": "ABX9TyNH686Qgxw8yMshY9NPWBJD",
      "include_colab_link": true
    },
    "kernelspec": {
      "name": "python3",
      "display_name": "Python 3"
    },
    "language_info": {
      "name": "python"
    }
  },
  "cells": [
    {
      "cell_type": "markdown",
      "metadata": {
        "id": "view-in-github",
        "colab_type": "text"
      },
      "source": [
        "<a href=\"https://colab.research.google.com/github/tirals88/Deep-Learning/blob/main/1%EA%B6%8C_2%EC%9E%A5_%ED%8D%BC%EC%85%89%ED%8A%B8%EB%A1%A0_%2B_3%EC%9E%A5_%EC%8B%A0%EA%B2%BD%EB%A7%9D(3%EC%B8%B5_%EC%8B%A0%EA%B2%BD%EB%A7%9D_%EA%B9%8C%EC%A7%80).ipynb\" target=\"_parent\"><img src=\"https://colab.research.google.com/assets/colab-badge.svg\" alt=\"Open In Colab\"/></a>"
      ]
    },
    {
      "cell_type": "markdown",
      "source": [
        "# 퍼셉트론 / AND OR NAND 게이트"
      ],
      "metadata": {
        "id": "mSvnn-ZWd9ef"
      }
    },
    {
      "cell_type": "code",
      "execution_count": 72,
      "metadata": {
        "id": "BK3oK_a80Tt3"
      },
      "outputs": [],
      "source": [
        "import numpy as np\n",
        "import matplotlib.pyplot as plt"
      ]
    },
    {
      "cell_type": "markdown",
      "source": [
        "𝐲 = {1 (ω1𝑥1+ω2𝑥2 > θ) }\n",
        "\n",
        "퍼셉트론 동작원리"
      ],
      "metadata": {
        "id": "n2HCpRSJ0j7b"
      }
    },
    {
      "cell_type": "markdown",
      "source": [
        "𝛳 를 -𝒃로 편향\n",
        "\n",
        "{𝒃 + ω1𝑥1 + ω2𝑥2} > 0 -> 1\n"
      ],
      "metadata": {
        "id": "xKrn2ozl5UAL"
      }
    },
    {
      "cell_type": "code",
      "source": [
        "x = np.array([0, 1])\n",
        "w = np.array([.5, .5])\n",
        "b = -.7\n",
        "print(w*x)\n",
        "print(np.sum(w*x))\n",
        "np.sum(w*x) + b"
      ],
      "metadata": {
        "id": "TwSiBxZq0nTL",
        "colab": {
          "base_uri": "https://localhost:8080/"
        },
        "outputId": "dde14d1a-8f59-4360-fdbb-44de0c204a5b"
      },
      "execution_count": 73,
      "outputs": [
        {
          "output_type": "stream",
          "name": "stdout",
          "text": [
            "[0.  0.5]\n",
            "0.5\n"
          ]
        },
        {
          "output_type": "execute_result",
          "data": {
            "text/plain": [
              "-0.19999999999999996"
            ]
          },
          "metadata": {},
          "execution_count": 73
        }
      ]
    },
    {
      "cell_type": "code",
      "source": [
        "def AND(x1, x2):\n",
        "  x = np.array([x1, x2])\n",
        "  w = np.array([.5, .5])\n",
        "  b = -.7\n",
        "  tmp = np.sum(w*x) + b\n",
        "  if tmp <= 0:\n",
        "    return 0\n",
        "  else:\n",
        "    return 1\n",
        "\n",
        "AND(1, 1)\n"
      ],
      "metadata": {
        "id": "xFWwRH5R0nHr",
        "colab": {
          "base_uri": "https://localhost:8080/"
        },
        "outputId": "6fbf3ff1-500a-4233-f8e5-2e15b9861bd9"
      },
      "execution_count": 74,
      "outputs": [
        {
          "output_type": "execute_result",
          "data": {
            "text/plain": [
              "1"
            ]
          },
          "metadata": {},
          "execution_count": 74
        }
      ]
    },
    {
      "cell_type": "markdown",
      "source": [
        "가중치 **ω** 는 입력신호 **𝒙** 가 결과에 주는 영향력(주요도)를 조절하는 매개변수\n",
        "\n",
        "편향(**𝒃**)은 뉴런이 얼마나 쉽게 활성화하느냐를 조정하는 매개변수"
      ],
      "metadata": {
        "id": "rFHvU5CyFkUK"
      }
    },
    {
      "cell_type": "code",
      "source": [
        "def NAND(x1, x2):\n",
        "  x = np.array([x1, x2])\n",
        "  w = np.array([-.5, -.5])\n",
        "  b = .8\n",
        "  tmp = np.sum(w*x) + b\n",
        "  if tmp >= 0:\n",
        "    return 1\n",
        "  else:\n",
        "    return 0\n",
        "\n",
        "print(NAND(0, 0))\n",
        "print(NAND(1, 0))\n",
        "print(NAND(1, 1))"
      ],
      "metadata": {
        "id": "82Dq7EJ1Mr-o",
        "colab": {
          "base_uri": "https://localhost:8080/"
        },
        "outputId": "6dc0abf7-8f7a-44ca-f174-ccaf58e77f45"
      },
      "execution_count": 75,
      "outputs": [
        {
          "output_type": "stream",
          "name": "stdout",
          "text": [
            "1\n",
            "1\n",
            "0\n"
          ]
        }
      ]
    },
    {
      "cell_type": "code",
      "source": [
        "def OR(x1, x2):\n",
        "  x = np.array([x1, x2])\n",
        "  w = np.array([.5, .5])\n",
        "  b = -.3\n",
        "  tmp = np.sum(w*x) + b\n",
        "  if tmp <= 0:\n",
        "    return 0\n",
        "  else:\n",
        "    return 1\n",
        "\n",
        "OR(1, 1)"
      ],
      "metadata": {
        "id": "N6CJiPCqFWc4",
        "colab": {
          "base_uri": "https://localhost:8080/"
        },
        "outputId": "3fa8a25a-1800-4b7f-eddb-4dc5c617c520"
      },
      "execution_count": 76,
      "outputs": [
        {
          "output_type": "execute_result",
          "data": {
            "text/plain": [
              "1"
            ]
          },
          "metadata": {},
          "execution_count": 76
        }
      ]
    },
    {
      "cell_type": "markdown",
      "source": [
        "# **XOR 게이트**\n",
        "\n",
        "---\n",
        "\n",
        "배타적 논리합 XOR게이트는 x1, x2 중 한 쪽이 1일 때만 1을 출력\n",
        "\n",
        "위 퍼셉트론들로는 구현이 안됨 ; 선형과 비선형\n",
        "\n",
        "이를 표현하기 위해 ***다층 퍼셉트론 multi-layer perceptron***을 생성"
      ],
      "metadata": {
        "id": "UhcQBmxwO5Vm"
      }
    },
    {
      "cell_type": "code",
      "source": [
        "def XOR(x1, x2):\n",
        "  s1 = OR(x1,x2)\n",
        "  s2 = NAND(x1, x2)\n",
        "  y = AND(s1, s2)\n",
        "  return y\n",
        "  \n",
        "print(XOR(1,0))\n",
        "print(XOR(1,1))"
      ],
      "metadata": {
        "id": "q4JzgyWfMsp7",
        "colab": {
          "base_uri": "https://localhost:8080/"
        },
        "outputId": "d4aac69d-246f-4c79-b125-4dd02e815d60"
      },
      "execution_count": 77,
      "outputs": [
        {
          "output_type": "stream",
          "name": "stdout",
          "text": [
            "1\n",
            "0\n"
          ]
        }
      ]
    },
    {
      "cell_type": "markdown",
      "source": [
        "OR / NAND 게이트가 1층 / \n",
        "\n",
        "AND 게이트가 2층\n"
      ],
      "metadata": {
        "id": "JpWl-htWTbJe"
      }
    },
    {
      "cell_type": "markdown",
      "source": [
        "# 신경망\n",
        "---\n",
        "1. 퍼셉트론으로 복잡한 함수도 표현할 수 있다. ( 컴퓨터의 수행능력까지도 퍼셉트론으로 표현이 이론상 가능함 )\n",
        "2. 가중치를 설정하는 작업이 사람이 수동으로 해야하기에 번거롭다.\n",
        "\n",
        "신경망은 가중치 매개변수의 적절한 값을 자동으로 학습하는 능력이 있기에 위 단점을 해결할 수 있다.\n",
        "\n",
        "\n",
        "---\n",
        "\n",
        "\n",
        "y = h( b + w1x1 + w2x2 )\n",
        "\n",
        "h(x) = { 0 ( x <= 0 ), 1 ( x > 0 ) } ---  (1) \n",
        "\n",
        "h(x) 처럼 입력 신호의 총합을 출력신호로 변환하는 함수를 ***활성화 함수 activation function***라고 함\n",
        "\n",
        "다시 작성하여\n",
        "\n",
        "1. a = b + w1x1 + w2x2\n",
        "2. y = h(a)\n",
        "\n",
        "a / y 모두 뉴련 or 노드라고 불림\n",
        "\n",
        "(1)과 같은 활성화 함수는 임계값을 경계로 출력이 바뀌는데, 이런 함수를 계단 함수 step fucntion라고 함.\n",
        "\n",
        "일반적으로 ***단순 퍼셉트론***은 계단 함수를 활성화 함수로 사용한 모델을 가리키고,\n",
        "\n",
        "***다층 퍼셉트론***은 신경망 ( 여러 층으로 구성되고 시그모이드 함수 등 매끈한 활성화 함수를 사용하는 네트워크 )을 가리킨다."
      ],
      "metadata": {
        "id": "uSgO8KR4Wa3y"
      }
    },
    {
      "cell_type": "markdown",
      "source": [
        "## 계단 함수 이외의 신경망에서 사용하는 활성화 함수들"
      ],
      "metadata": {
        "id": "hXqKZPjbd0Gh"
      }
    },
    {
      "cell_type": "markdown",
      "source": [
        "***시그모이드 함수 Sigmoid function***\n",
        "\n",
        "h(x) = 1 / { 1 + exp(-x) }\n",
        "\n"
      ],
      "metadata": {
        "id": "BobCqrd2ebfn"
      }
    },
    {
      "cell_type": "code",
      "source": [
        "# 1. 계단 함수 구현\n",
        "def step_function(x):\n",
        "  if x >= 1:\n",
        "    return 2\n",
        "  if x>= 0:\n",
        "    return 1 \n",
        "  else:\n",
        "    return 0\n",
        "\n",
        "print(step_function(2))\n",
        "print(step_function(.5))\n",
        "print(step_function(-1))"
      ],
      "metadata": {
        "id": "KCvWXEpKTT5j",
        "colab": {
          "base_uri": "https://localhost:8080/"
        },
        "outputId": "7322234c-55d7-4ac2-aa55-99ac25f0219a"
      },
      "execution_count": 78,
      "outputs": [
        {
          "output_type": "stream",
          "name": "stdout",
          "text": [
            "2\n",
            "1\n",
            "0\n"
          ]
        }
      ]
    },
    {
      "cell_type": "code",
      "source": [
        "#2. numpy array 삽입\n",
        "def step_function(x):\n",
        "  y = x>0\n",
        "  return (y.astype(np.int), y)\n",
        "\n",
        "step_function(np.array([1.0, 2.0]))"
      ],
      "metadata": {
        "id": "VJgJCJtneYNi",
        "colab": {
          "base_uri": "https://localhost:8080/"
        },
        "outputId": "20586dfc-9648-4f9d-f5c0-6c48e1ff2368"
      },
      "execution_count": 79,
      "outputs": [
        {
          "output_type": "stream",
          "name": "stderr",
          "text": [
            "/usr/local/lib/python3.7/dist-packages/ipykernel_launcher.py:4: DeprecationWarning: `np.int` is a deprecated alias for the builtin `int`. To silence this warning, use `int` by itself. Doing this will not modify any behavior and is safe. When replacing `np.int`, you may wish to use e.g. `np.int64` or `np.int32` to specify the precision. If you wish to review your current use, check the release note link for additional information.\n",
            "Deprecated in NumPy 1.20; for more details and guidance: https://numpy.org/devdocs/release/1.20.0-notes.html#deprecations\n",
            "  after removing the cwd from sys.path.\n"
          ]
        },
        {
          "output_type": "execute_result",
          "data": {
            "text/plain": [
              "(array([1, 1]), array([ True,  True]))"
            ]
          },
          "metadata": {},
          "execution_count": 79
        }
      ]
    },
    {
      "cell_type": "code",
      "source": [
        "#3. 계단함수의 그래프\n",
        "import numpy as np\n",
        "import matplotlib.pyplot as plt\n",
        "\n",
        "def step_function(x):\n",
        "  return np.array( x > 0, dtype = np.int)\n",
        "\n",
        "x = np.arange(-5., 5., .1)\n",
        "y = step_function(x)\n",
        "plt.plot(x, y)\n",
        "plt.ylim(-.1, 1.1)\n",
        "plt.show()"
      ],
      "metadata": {
        "id": "yDFUCwkViAQx",
        "colab": {
          "base_uri": "https://localhost:8080/",
          "height": 342
        },
        "outputId": "56e623ec-2297-439e-e8fd-443c505efa0c"
      },
      "execution_count": 80,
      "outputs": [
        {
          "output_type": "stream",
          "name": "stderr",
          "text": [
            "/usr/local/lib/python3.7/dist-packages/ipykernel_launcher.py:6: DeprecationWarning: `np.int` is a deprecated alias for the builtin `int`. To silence this warning, use `int` by itself. Doing this will not modify any behavior and is safe. When replacing `np.int`, you may wish to use e.g. `np.int64` or `np.int32` to specify the precision. If you wish to review your current use, check the release note link for additional information.\n",
            "Deprecated in NumPy 1.20; for more details and guidance: https://numpy.org/devdocs/release/1.20.0-notes.html#deprecations\n",
            "  \n"
          ]
        },
        {
          "output_type": "display_data",
          "data": {
            "text/plain": [
              "<Figure size 432x288 with 1 Axes>"
            ],
            "image/png": "[encoded data removed]"
          },
          "metadata": {
            "needs_background": "light"
          }
        }
      ]
    },
    {
      "cell_type": "code",
      "source": [
        "#4. 시그모이드 함수 구현\n",
        "def sigmoid(x):\n",
        "  return 1/(1+np.exp(-x))\n",
        "\n",
        "x = np.arange(-5., 5., .1)\n",
        "y = sigmoid(x)\n",
        "y2 = np.array(x>0, dtype=np.int)\n",
        "plt.plot(x, y2, ',g')\n",
        "plt.plot(x, y, 'r')\n",
        "plt.ylim(-.1, 1.1)\n",
        "plt.show()"
      ],
      "metadata": {
        "id": "wAjUs2AxkAvx",
        "colab": {
          "base_uri": "https://localhost:8080/",
          "height": 342
        },
        "outputId": "a64223f2-23e5-448f-ca2a-e40513dc3092"
      },
      "execution_count": 81,
      "outputs": [
        {
          "output_type": "stream",
          "name": "stderr",
          "text": [
            "/usr/local/lib/python3.7/dist-packages/ipykernel_launcher.py:7: DeprecationWarning: `np.int` is a deprecated alias for the builtin `int`. To silence this warning, use `int` by itself. Doing this will not modify any behavior and is safe. When replacing `np.int`, you may wish to use e.g. `np.int64` or `np.int32` to specify the precision. If you wish to review your current use, check the release note link for additional information.\n",
            "Deprecated in NumPy 1.20; for more details and guidance: https://numpy.org/devdocs/release/1.20.0-notes.html#deprecations\n",
            "  import sys\n"
          ]
        },
        {
          "output_type": "display_data",
          "data": {
            "text/plain": [
              "<Figure size 432x288 with 1 Axes>"
            ],
            "image/png": "[encoded data removed]"
          },
          "metadata": {
            "needs_background": "light"
          }
        }
      ]
    },
    {
      "cell_type": "markdown",
      "source": [
        "시그모이드 함수와 계단 함수의 차이점으로는 **매끄러움**이 가장 크다.\n",
        "\n",
        "또한 계단 함수는 0 또는 1 만을 출력하지만, 시그모이드 함수는 실수를 출력할 수 있으므로 ( 0.122, 0.3333 ) 연속적인 실수가 발생할 수 있다.\n",
        "\n",
        "+ 계단 함수와 시그모이드 함수 모두 비선형 함수이다.\n",
        "\n"
      ],
      "metadata": {
        "id": "BgsCSTS3l-Xb"
      }
    },
    {
      "cell_type": "markdown",
      "source": [
        "# ReLU 함수\n",
        "\n",
        "---\n",
        "\n",
        "시그모이드 함수보다도 최근에 들어서는 ReLU Rectified Linear Unit 함수를 주로 이용. \n",
        "\n",
        "[**Rectified 정류된 / 교류에서 - 흐름을 차단**]\n",
        "\n",
        "ReLU는 입력이 임계치를 넘으면 그대로 출력하고 임계치를 넘지 못하면 0을 출력하는 함수이다.\n",
        "\n",
        "h(x) = { x ( x>= 0 ), 0 ( x<0 ) }"
      ],
      "metadata": {
        "id": "LBJh2br7nXaF"
      }
    },
    {
      "cell_type": "code",
      "source": [
        "def relu(x):\n",
        "  return np.maximum(0, x)\n",
        "\n",
        "print(relu(1))\n",
        "print(relu(-1))"
      ],
      "metadata": {
        "id": "0OCUoglSoX92",
        "colab": {
          "base_uri": "https://localhost:8080/"
        },
        "outputId": "ae8f92bb-2ad0-4af0-ab32-9089e7d1f930"
      },
      "execution_count": 82,
      "outputs": [
        {
          "output_type": "stream",
          "name": "stdout",
          "text": [
            "1\n",
            "0\n"
          ]
        }
      ]
    },
    {
      "cell_type": "markdown",
      "source": [
        "# 행렬 곱 / 3층 신경망 구현\n",
        "\n",
        "---\n",
        "\n",
        "np.dot()"
      ],
      "metadata": {
        "id": "KcUW9uY_q7PA"
      }
    },
    {
      "cell_type": "code",
      "source": [
        "#1. 행렬 곱 Dot\n",
        "x = np.array([1,2])\n",
        "w = np.array([[1,3,5], [2,4,6]])\n",
        "print(x.shape)\n",
        "print(w)\n",
        "y = np.dot(x,w)\n",
        "print(y)"
      ],
      "metadata": {
        "id": "dqTdXQeLocw0",
        "colab": {
          "base_uri": "https://localhost:8080/"
        },
        "outputId": "7e9f2dbe-96ec-4323-d1cf-83c6e683cc5b"
      },
      "execution_count": 83,
      "outputs": [
        {
          "output_type": "stream",
          "name": "stdout",
          "text": [
            "(2,)\n",
            "[[1 3 5]\n",
            " [2 4 6]]\n",
            "[ 5 11 17]\n"
          ]
        }
      ]
    },
    {
      "cell_type": "markdown",
      "source": [
        " #2. 3층 신경망 구현\n",
        "\n",
        "A = XW + B\n",
        "\n",
        "x1 / x2 (좌측 노드)\n",
        "\n",
        "ω1 / ω2 / ω3 (가중치)\n",
        "\n",
        "a1 / a2 / a3 (우측 노드)\n",
        "\n",
        "![퍼셉트론 1.png](data:image/png;base64,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)\n",
        "\n",
        "x1 노드 위에 b ( 편향 ) 있다고 가정"
      ],
      "metadata": {
        "id": "EwOBG9MbvXYO"
      }
    },
    {
      "cell_type": "markdown",
      "source": [
        "A = (a1, a2, a3)\n",
        "\n",
        "X = (x1, x2)\n",
        "\n",
        "B = (b1, b2, b3)\n",
        "\n",
        "W = (w11, w21, w31\n",
        "     w12, w22, w32)"
      ],
      "metadata": {
        "id": "XiBGLHLWxm4P"
      }
    },
    {
      "cell_type": "code",
      "source": [
        "X = np.array([1., .5])\n",
        "W1 = np.array([[.1, .3, .5], [.2, .4, .6]])\n",
        "B1 = np.array([.1, .2, .3])\n",
        "\n",
        "print(W1.shape)\n",
        "print(X.shape)\n",
        "print(B1.shape)\n",
        "\n",
        "A1 = np.dot(X,W1) + B1\n",
        "print(A1)"
      ],
      "metadata": {
        "id": "CGNN_mrXrUa5",
        "colab": {
          "base_uri": "https://localhost:8080/"
        },
        "outputId": "06cf18f3-b767-46fa-a830-eef31addba0e"
      },
      "execution_count": 84,
      "outputs": [
        {
          "output_type": "stream",
          "name": "stdout",
          "text": [
            "(2, 3)\n",
            "(2,)\n",
            "(3,)\n",
            "[0.3 0.7 1.1]\n"
          ]
        }
      ]
    },
    {
      "cell_type": "code",
      "source": [
        "#3. 활성화 함수 도입\n",
        "\n",
        "Z1 = sigmoid(A1)\n",
        "\n",
        "print(A1)\n",
        "print(Z1)"
      ],
      "metadata": {
        "id": "XUlPlv4RykW2",
        "colab": {
          "base_uri": "https://localhost:8080/"
        },
        "outputId": "5cbb5f1e-6315-4bf5-ca7d-51827629409c"
      },
      "execution_count": 85,
      "outputs": [
        {
          "output_type": "stream",
          "name": "stdout",
          "text": [
            "[0.3 0.7 1.1]\n",
            "[0.57444252 0.66818777 0.75026011]\n"
          ]
        }
      ]
    },
    {
      "cell_type": "code",
      "source": [
        "#4. 1층에서 2층으로 + 3층으로 신호 전달\n",
        "\n",
        "W2 = np.array([[.1, .4], [.2, .5], [.3, .6]])\n",
        "B2 = np.array([.1, .2])\n",
        "\n",
        "A2 = np.dot(Z1, W2) + B2\n",
        "Z2 = sigmoid(A2)\n",
        "\n",
        "print(A2)\n",
        "print(Z2)\n",
        "\n",
        "def identify_function(x):\n",
        "  return x\n",
        "\n",
        "W3 = np.array([[.1, .3], [.2, .4]])\n",
        "B3 = np.array([.1, .2])\n",
        "\n",
        "A3 = np.dot(Z2, W3) + B3\n",
        "Y = identify_function(A3)\n",
        "\n",
        "print(Y)"
      ],
      "metadata": {
        "id": "d_R7K3yr0OlY",
        "colab": {
          "base_uri": "https://localhost:8080/"
        },
        "outputId": "688c1f3e-77d2-4dba-b6d2-8b5e53168ff3"
      },
      "execution_count": 86,
      "outputs": [
        {
          "output_type": "stream",
          "name": "stdout",
          "text": [
            "[0.51615984 1.21402696]\n",
            "[0.62624937 0.7710107 ]\n",
            "[0.31682708 0.69627909]\n"
          ]
        }
      ]
    },
    {
      "cell_type": "markdown",
      "source": [
        "여기서는 항등함수 identify_function을 정의해 사용하였음.\n",
        " \n",
        "이와 같이 출력층에 함수를 정의하며 σ()로 표시 (시그마)"
      ],
      "metadata": {
        "id": "zPDSSuLG3aiZ"
      }
    },
    {
      "cell_type": "code",
      "source": [
        "#5. 구현정리\n",
        "\n",
        "def init_network():\n",
        "  network = {}\n",
        "  network['W1'] = np.array([[.1, .3, .5], [.2, .4, .6]])\n",
        "  network['b1'] = np.array([.1, .2, .3])\n",
        "  network['W2'] = np.array([[.1, .4], [.2, .5], [.3, .6]])\n",
        "  network['b2'] = np.array([.1, .2])\n",
        "  network['W3'] = np.array([[.1, .3], [.2, .4]])\n",
        "  network['b3'] = np.array([.1, .2])\n",
        "\n",
        "  return network\n",
        "\n",
        "def forward(network, x):\n",
        "  W1, W2, W3 = network['W1'], network['W2'], network['W3']\n",
        "  b1, b2, b3 = network['b1'], network['b2'], network['b3']\n",
        "\n",
        "  a1 = np.dot(x, W1) + b1\n",
        "  z1 = sigmoid(a1)\n",
        "  a2 = np.dot(z1, W2) + b2\n",
        "  z2 = sigmoid(a2)\n",
        "  a3 = np.dot(z2, W3) + b3\n",
        "  \n",
        "  y = identify_function(a3)\n",
        "\n",
        "  return y\n",
        "\n",
        "network = init_network()\n",
        "x = np.array([1., .5])\n",
        "y = forward(network, x)\n",
        "print(y)"
      ],
      "metadata": {
        "id": "q9sKn9Pt00Qs",
        "colab": {
          "base_uri": "https://localhost:8080/"
        },
        "outputId": "9e2ce30f-27df-415a-9fcf-916c22c22fb7"
      },
      "execution_count": 87,
      "outputs": [
        {
          "output_type": "stream",
          "name": "stdout",
          "text": [
            "[0.31682708 0.69627909]\n"
          ]
        }
      ]
    }
  ]
}