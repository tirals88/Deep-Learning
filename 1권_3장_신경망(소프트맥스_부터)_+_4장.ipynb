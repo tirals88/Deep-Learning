{
  "nbformat": 4,
  "nbformat_minor": 0,
  "metadata": {
    "colab": {
      "name": "1권 3장 신경망(소프트맥스 부터) + 4장.ipynb",
      "provenance": [],
      "collapsed_sections": [],
      "authorship_tag": "ABX9TyPcYaDmS99s3lzQvB8j7RuY",
      "include_colab_link": true
    },
    "kernelspec": {
      "name": "python3",
      "display_name": "Python 3"
    },
    "language_info": {
      "name": "python"
    }
  },
  "cells": [
    {
      "cell_type": "markdown",
      "metadata": {
        "id": "view-in-github",
        "colab_type": "text"
      },
      "source": [
        "<a href=\"https://colab.research.google.com/github/tirals88/Deep-Learning/blob/main/1%EA%B6%8C_3%EC%9E%A5_%EC%8B%A0%EA%B2%BD%EB%A7%9D(%EC%86%8C%ED%94%84%ED%8A%B8%EB%A7%A5%EC%8A%A4_%EB%B6%80%ED%84%B0)_%2B_4%EC%9E%A5.ipynb\" target=\"_parent\"><img src=\"https://colab.research.google.com/assets/colab-badge.svg\" alt=\"Open In Colab\"/></a>"
      ]
    },
    {
      "cell_type": "code",
      "source": [
        "import numpy as np\n",
        "import matplotlib.pyplot as plt"
      ],
      "metadata": {
        "id": "GJa9UfrHH8_c"
      },
      "execution_count": null,
      "outputs": []
    },
    {
      "cell_type": "markdown",
      "source": [
        "# 소프트맥스 구현하기\n",
        "\n",
        "\n",
        "---\n",
        "신경망은 분류와 회귀 모두에서 이용할 수 있다.\n",
        "\n",
        "다만 둘 중 어떤 문제냐에 따라 출력층에서 사용하는 **활성화 함수**가 달라진다.\n",
        "\n",
        "일반적으로 회귀에는 **항등 함수 (σ)**를, 분류에는 **소프트맥스**함수를 사용한다."
      ],
      "metadata": {
        "id": "3iefrqvwHITz"
      }
    },
    {
      "cell_type": "code",
      "execution_count": null,
      "metadata": {
        "id": "jLxjhwNIG_m4"
      },
      "outputs": [],
      "source": [
        "#항등 함수 σ\n",
        "\n",
        "def identify_function(x):\n",
        "  return x"
      ]
    },
    {
      "cell_type": "markdown",
      "source": [
        "**소프트맥스 함수 softmax function**\n",
        "\n",
        "$$ y_k = \\frac{\\exp(a_k)}{\\displaystyle\\sum_{i=1}^{n} \\exp(a_i)} $$\n",
        "\n",
        "$n$은 출력층의 뉴런 수, $y_k$는 그 중 $k$번째 출력\n",
        "\n",
        "이렇게 되면 소프트맥스의 출력은 하나의 입력값만을 고려한 것이 아닌 **모든 입력신호로 부터 영향**을 받게 됨. (분모에서 출력층의 각 뉴런이 모든 입력 신호에서 영향을 받게 된다)"
      ],
      "metadata": {
        "id": "GY2b6RIqJMXJ"
      }
    },
    {
      "cell_type": "code",
      "source": [
        "# 소프트맥스 함수 구현\n",
        "\n",
        "a = np.array([.3, 2.9, 4.])\n",
        "\n",
        "exp_a = np.exp(a)\n",
        "\n",
        "sum_exp_a = np.sum(np.exp(a))\n",
        "print(sum_exp_a)\n",
        "\n",
        "y = exp_a / sum_exp_a\n",
        "print(y)"
      ],
      "metadata": {
        "colab": {
          "base_uri": "https://localhost:8080/"
        },
        "id": "f_PCn_uVJIkg",
        "outputId": "4c1624ff-e12c-41d7-e4a0-95b45ff05ef0"
      },
      "execution_count": null,
      "outputs": [
        {
          "output_type": "stream",
          "name": "stdout",
          "text": [
            "74.1221542101633\n",
            "[0.01821127 0.24519181 0.73659691]\n"
          ]
        }
      ]
    },
    {
      "cell_type": "code",
      "source": [
        "def sofmax(a):\n",
        "  exp_a = np.exp(a)\n",
        "  sum_exp_a = np.sum(exp_a)\n",
        "\n",
        "  y = exp_a / sum_exp_a\n",
        "  \n",
        "  return y"
      ],
      "metadata": {
        "id": "RRZyaeT_b4LX"
      },
      "execution_count": null,
      "outputs": []
    },
    {
      "cell_type": "markdown",
      "source": [
        "# **소프트 맥스 함수 구현 시 주의점**\n",
        "\n",
        "---\n",
        "\n",
        "\n",
        "\n",
        "$#.1$ **오버플로우 문제**\n",
        "\n",
        "지수 함수는 큰 값을 내기 쉽다. $e^{10}$은 20,000이 넘고, $e^{100}$은 0이 40개가 넘어가 $e^{1000}$은 무한대 $inf$가 되어 돌아옴."
      ],
      "metadata": {
        "id": "8Kqsh4qHcnRG"
      }
    },
    {
      "cell_type": "markdown",
      "source": [
        "위 문제를 해결하도록 개선\n",
        "\n",
        "$${y_k = \\frac{\\exp(a_k)}{\\displaystyle\\sum_{i=1}^{n}\\exp(a_i)}= \\frac{C\\exp(a_k)}{\\displaystyle\\sum_{i=1}^{n}C\\exp(a_i)}}$$\n",
        "<br/>$${=\\frac{\\exp(a_k + \\log{C})}{\\displaystyle\\sum_{i=1}^{n}\\exp(a_i + \\log{C})}}=\\frac{\\exp(a_k + C^{'})}{\\displaystyle\\sum_{i=1}^{n}\\exp(a_i + C^{'})}$$\n",
        "<br/><br/>$$C = \\exp(\\log{C}) = \\exp(C^{'})$$"
      ],
      "metadata": {
        "id": "MhPT8XQwhFVR"
      }
    },
    {
      "cell_type": "markdown",
      "source": [
        "**어떠한 정수를 더하거나 뺴도 결과는 바뀌지 않기에** 오버플로우를 막는 목적으로\n",
        "\n",
        "**입력 신호 중 최댓값을 이용**하는 것이 일반적이다."
      ],
      "metadata": {
        "id": "NwD4XE23nCEt"
      }
    },
    {
      "cell_type": "code",
      "source": [
        "a = np.array([1010, 1000, 990])\n",
        "print(np.exp(a) / np.sum(np.exp(a)))\n",
        "\n",
        "c = np.max(a)\n",
        "A = a - c\n",
        "print(A)\n",
        "print(np.exp(A) / np.sum(np.exp(A)))"
      ],
      "metadata": {
        "colab": {
          "base_uri": "https://localhost:8080/"
        },
        "id": "o78tlkZZcg2w",
        "outputId": "2b42e307-45c4-4f14-a7c3-ff3d9c004718"
      },
      "execution_count": null,
      "outputs": [
        {
          "output_type": "stream",
          "name": "stdout",
          "text": [
            "[nan nan nan]\n",
            "[  0 -10 -20]\n",
            "[9.99954600e-01 4.53978686e-05 2.06106005e-09]\n"
          ]
        },
        {
          "output_type": "stream",
          "name": "stderr",
          "text": [
            "/usr/local/lib/python3.7/dist-packages/ipykernel_launcher.py:2: RuntimeWarning: overflow encountered in exp\n",
            "  \n",
            "/usr/local/lib/python3.7/dist-packages/ipykernel_launcher.py:2: RuntimeWarning: invalid value encountered in true_divide\n",
            "  \n"
          ]
        }
      ]
    },
    {
      "cell_type": "markdown",
      "source": [
        "위와 같이 아무런 조치 없이 계산하면 **nan** (not a number)이 출력 됨"
      ],
      "metadata": {
        "id": "Zzd1LGBYoKgh"
      }
    },
    {
      "cell_type": "code",
      "source": [
        "def softmax(a):\n",
        "  max = np.max(a)\n",
        "  exp_a = np.exp(a-max)\n",
        "  y = (exp_a) / np.sum(exp_a)\n",
        "  return y\n",
        "\n",
        "print(softmax(a))"
      ],
      "metadata": {
        "colab": {
          "base_uri": "https://localhost:8080/"
        },
        "id": "tQjnRVn_nvGB",
        "outputId": "a0800bd9-1ab7-44a5-fda6-5ad68e23a491"
      },
      "execution_count": null,
      "outputs": [
        {
          "output_type": "stream",
          "name": "stdout",
          "text": [
            "[9.99954600e-01 4.53978686e-05 2.06106005e-09]\n"
          ]
        }
      ]
    },
    {
      "cell_type": "markdown",
      "source": [
        "# 소프트맥스 함수의 특징\n",
        "\n",
        "---\n",
        "\n"
      ],
      "metadata": {
        "id": "ul_zn6jRpMtr"
      }
    },
    {
      "cell_type": "code",
      "source": [
        "K = np.array([.3, 2.9, 4.])\n",
        "y = softmax(K)\n",
        "print(y)\n",
        "\n",
        "print(np.sum(y))"
      ],
      "metadata": {
        "colab": {
          "base_uri": "https://localhost:8080/"
        },
        "id": "aoa1AZhdomjO",
        "outputId": "45c1ca9a-d101-403f-aef8-175e33613ba9"
      },
      "execution_count": null,
      "outputs": [
        {
          "output_type": "stream",
          "name": "stdout",
          "text": [
            "[0.01821127 0.24519181 0.73659691]\n",
            "1.0\n"
          ]
        }
      ]
    },
    {
      "cell_type": "markdown",
      "source": [
        "위와 같이 소프트맥스 함수의 출력은 항상 0 ~ 1.0 사이의 실수이며 총합은 1이 된다.\n",
        "\n",
        "이를 이용해 소프트맥스 함수의 출력을 **'확률'**로 해석할 수 있다."
      ],
      "metadata": {
        "id": "eEKMO5TLppWe"
      }
    },
    {
      "cell_type": "markdown",
      "source": [
        "위의 값을 확률로 보자면 1.8% / 24.5% / 73.7%가 된다.<br/>이 결과 y[2]의 확률이 가장 높으니 답은 2번쨰 클래스다 라고 할 수 있다.<br/>즉 소프트맥스 함수를 이용함으로써 문제를 확률적/통계적으로 대응할 수 있게 되었다."
      ],
      "metadata": {
        "id": "xNwibEH1sKVn"
      }
    },
    {
      "cell_type": "markdown",
      "source": [
        "$#.1$ 소프트맥스 함수를 적용해도 각 원소의 대소 관계는 변하지 않는다.<br/>신경망을 이용한 분류에서는 일반적으로 가장 큰 출력을 내는 뉴런에 해당하는 클래스로만 인식한다.<br/>그리고 소프트맥스 함수를 적용해도 출력이 가장 큰 뉴런의 위치는 달라지지 않는다.<br/><br/>결과적으로 신경망으로 분류할 때 소프트맥스 함수를 생략해도 되어 일반적으로 생략된다."
      ],
      "metadata": {
        "id": "2-uzOF_rsv8t"
      }
    },
    {
      "cell_type": "markdown",
      "source": [
        "$#.2$ 출력층의 뉴런 수 정하기\n",
        "\n",
        "분류에서는 분류하고 싶은 클래스 수로 설정하는 것이 일반적이다."
      ],
      "metadata": {
        "id": "L4eFlwK7wL5h"
      }
    },
    {
      "cell_type": "markdown",
      "source": [
        "# 손글씨 숫자 인식\n",
        "\n",
        "---\n",
        "이미 학습된 매개변수를 사용하여 학습 과정은 색략. 추론 과정만 구현 /// 이 추론 과정을 신경망의 **순전파(forward propagation)**라고도 한다."
      ],
      "metadata": {
        "id": "X-9IkcjGwdv1"
      }
    },
    {
      "cell_type": "code",
      "source": [
        "#1. MNIST 데이터셋 (훈련 이미지가 60,000장, 시험 이미지가 10,000장)\n",
        "#이미지 데이터는 28X28 회색조 이미지(1채널)이며, 각 픽셀은 0-255까지의 값\n"
      ],
      "metadata": {
        "id": "-tRBbBq5pn94"
      },
      "execution_count": null,
      "outputs": []
    },
    {
      "cell_type": "code",
      "source": [
        "import sys, os\n",
        "sys.path.append(os.pardir)\n",
        "from dataset.mnist import load_mnist"
      ],
      "metadata": {
        "colab": {
          "base_uri": "https://localhost:8080/",
          "height": 367
        },
        "id": "XkCUOFYzyMdO",
        "outputId": "29dd7ae1-8bcd-4e56-9209-732ab0a173f1"
      },
      "execution_count": null,
      "outputs": [
        {
          "output_type": "error",
          "ename": "ModuleNotFoundError",
          "evalue": "ignored",
          "traceback": [
            "\u001b[0;31m---------------------------------------------------------------------------\u001b[0m",
            "\u001b[0;31mModuleNotFoundError\u001b[0m                       Traceback (most recent call last)",
            "\u001b[0;32m<ipython-input-53-089430496d96>\u001b[0m in \u001b[0;36m<module>\u001b[0;34m()\u001b[0m\n\u001b[1;32m      1\u001b[0m \u001b[0;32mimport\u001b[0m \u001b[0msys\u001b[0m\u001b[0;34m,\u001b[0m \u001b[0mos\u001b[0m\u001b[0;34m\u001b[0m\u001b[0;34m\u001b[0m\u001b[0m\n\u001b[1;32m      2\u001b[0m \u001b[0msys\u001b[0m\u001b[0;34m.\u001b[0m\u001b[0mpath\u001b[0m\u001b[0;34m.\u001b[0m\u001b[0mappend\u001b[0m\u001b[0;34m(\u001b[0m\u001b[0mos\u001b[0m\u001b[0;34m.\u001b[0m\u001b[0mpardir\u001b[0m\u001b[0;34m)\u001b[0m\u001b[0;34m\u001b[0m\u001b[0;34m\u001b[0m\u001b[0m\n\u001b[0;32m----> 3\u001b[0;31m \u001b[0;32mfrom\u001b[0m \u001b[0mdataset\u001b[0m\u001b[0;34m.\u001b[0m\u001b[0mmnist\u001b[0m \u001b[0;32mimport\u001b[0m \u001b[0mload_mnist\u001b[0m\u001b[0;34m\u001b[0m\u001b[0;34m\u001b[0m\u001b[0m\n\u001b[0m",
            "\u001b[0;31mModuleNotFoundError\u001b[0m: No module named 'dataset.mnist'",
            "",
            "\u001b[0;31m---------------------------------------------------------------------------\u001b[0;32m\nNOTE: If your import is failing due to a missing package, you can\nmanually install dependencies using either !pip or !apt.\n\nTo view examples of installing some common dependencies, click the\n\"Open Examples\" button below.\n\u001b[0;31m---------------------------------------------------------------------------\u001b[0m\n"
          ],
          "errorDetails": {
            "actions": [
              {
                "action": "open_url",
                "actionText": "Open Examples",
                "url": "/notebooks/snippets/importing_libraries.ipynb"
              }
            ]
          }
        }
      ]
    },
    {
      "cell_type": "code",
      "source": [
        "#Google Drive에 mnist파일을 직접 clone먼저 하기\n",
        "#드라이브연동\n",
        "from google.colab import drive\n",
        "drive.mount(\"/content/drive\")"
      ],
      "metadata": {
        "colab": {
          "base_uri": "https://localhost:8080/"
        },
        "id": "qxePVv9JybW-",
        "outputId": "739f88e9-09a0-4bf3-8d9d-3c1af8322de5"
      },
      "execution_count": 14,
      "outputs": [
        {
          "output_type": "stream",
          "name": "stdout",
          "text": [
            "Drive already mounted at /content/drive; to attempt to forcibly remount, call drive.mount(\"/content/drive\", force_remount=True).\n"
          ]
        }
      ]
    },
    {
      "cell_type": "code",
      "source": [
        "cd '/content/drive/My Drive/DLscratch'"
      ],
      "metadata": {
        "colab": {
          "base_uri": "https://localhost:8080/"
        },
        "id": "J0qa2CUg5COo",
        "outputId": "673e0a17-69a3-45bc-8ae3-496b23953dfb"
      },
      "execution_count": 15,
      "outputs": [
        {
          "output_type": "stream",
          "name": "stdout",
          "text": [
            "/content/drive/My Drive/DLscratch\n"
          ]
        }
      ]
    },
    {
      "cell_type": "code",
      "source": [
        "!git clone https://github.com/WegraLee/deep-learning-from-scratch.git"
      ],
      "metadata": {
        "colab": {
          "base_uri": "https://localhost:8080/"
        },
        "id": "gXiJVks-39lT",
        "outputId": "045e908e-d390-4808-8292-481f7a423a91"
      },
      "execution_count": 16,
      "outputs": [
        {
          "output_type": "stream",
          "name": "stdout",
          "text": [
            "fatal: destination path 'deep-learning-from-scratch' already exists and is not an empty directory.\n"
          ]
        }
      ]
    },
    {
      "cell_type": "code",
      "source": [
        "cd '/content/drive/My Drive/DLscratch/deep-learning-from-scratch/ch03'"
      ],
      "metadata": {
        "colab": {
          "base_uri": "https://localhost:8080/"
        },
        "id": "83pC_4E16xQF",
        "outputId": "0562494f-8d0d-47cd-9629-6f422eb66564"
      },
      "execution_count": 17,
      "outputs": [
        {
          "output_type": "stream",
          "name": "stdout",
          "text": [
            "/content/drive/My Drive/DLscratch/deep-learning-from-scratch/ch03\n"
          ]
        }
      ]
    },
    {
      "cell_type": "code",
      "source": [
        "import sys, os\n",
        "sys.path.append(os.pardir)\n",
        "from dataset.mnist import load_mnist"
      ],
      "metadata": {
        "id": "_1cBitCe5Z-o"
      },
      "execution_count": 18,
      "outputs": []
    },
    {
      "cell_type": "markdown",
      "source": [
        "mnist.py 파일이 deep-learning-from-scratch/dataset/ 에 위치하도록 설정 후, 이 파일은 deep-learning-from-scartch/ch03/에 위치\n",
        "\n",
        "이후 부모디렉터리의 파일을 가져올 수 있도록 설정 하고 load_mnist 함수를 임포트\n",
        "\n"
      ],
      "metadata": {
        "id": "OgtOMtP901IL"
      }
    },
    {
      "cell_type": "code",
      "source": [
        "(x_train, t_train), (x_test, t_test) = \\\n",
        "  load_mnist(flatten=True, normalize=False)\n",
        "\n",
        "print(x_train.shape)\n",
        "print(t_train.shape)\n",
        "print(x_test.shape)\n",
        "print(t_test.shape)"
      ],
      "metadata": {
        "colab": {
          "base_uri": "https://localhost:8080/"
        },
        "id": "Sf7_k5L5uyc6",
        "outputId": "4b11c438-8829-4f6b-a99b-434ab839af69"
      },
      "execution_count": 19,
      "outputs": [
        {
          "output_type": "stream",
          "name": "stdout",
          "text": [
            "(60000, 784)\n",
            "(60000,)\n",
            "(10000, 784)\n",
            "(10000,)\n"
          ]
        }
      ]
    },
    {
      "cell_type": "markdown",
      "source": [
        "load_mnist 함수는 읽은 MNIST 데이터를 \"(훈련 이미지, 훈련 레이블), (시험 이미지, 시험레이블)\" 형식으로 반환한다.\n",
        "\n",
        "인수로는 normalize, flatten, one_hot_label 세 가지를 설정할 수 있다.\n",
        "\n",
        "세 인수 모두 bool 값이며 첫 번째 인수 **normalize**는 입력 이미지의 픽셀값을 0.0 ~ 1.0 사이의 값으로 정규화할지를 정한다. False로 설정하면 입력 이미지의 픽셀값은 원래 값 그대로 0 ~ 255 사이의 값을 유지한다.\n",
        "\n",
        "두 번째 인수인 flatten은 입력 이미지를 평탄하게, 즉 1차원 배열로 만들지를 정한다. False로 설정하면 입력 이미지를 1 \\* 28 \\* 28 의 3차원 배열로, True로 설정하면 784개의 원소로 이뤄진 1차원 배열로 저장합니다.\n",
        "\n",
        "세 번째 인수인 one_hot_label은 레이블을 **원-핫 인코딩** 형태로 저장할지를 정한다. 원-핫 인코딩이란, 예를 들어 [0, 0, 1, 0, 0, 0, 0, 0, 0, 0,] 처럼 정답을 뜻하는 원소만 1이고 ( hot하고 ) 나머지는 모두 0인 배열이다. one_hot_label이 False면 '7'이나 '2'와 같이 숫자 형태의 레이블을 저장하고, True 일 때는 레이블을  원-핫 인코딩하여 저장한다."
      ],
      "metadata": {
        "id": "bdge1aU-6o5k"
      }
    },
    {
      "cell_type": "code",
      "source": [
        "%matplotlib inline\n",
        "import sys, os\n",
        "sys.path.append(os.pardir)\n",
        "import numpy as np\n",
        "from dataset.mnist import load_mnist\n",
        "from PIL import Image\n",
        "from matplotlib import pyplot as plt\n",
        "\n",
        "def img_show(img):\n",
        "  plt.axis(False)\n",
        "  plt.imshow(img)\n",
        "\n",
        "(x_train, t_train), (x_test, t_test) = \\\n",
        "  load_mnist(flatten = True, normalize = False)\n",
        "\n",
        "img = x_train[500]\n",
        "label = t_train[0]\n",
        "\n",
        "print(label) # 5\n",
        "\n",
        "print(img.shape)            # (784, ) flatten = True \n",
        "img = img.reshape(28, 28)   # 원래 이미지의 모양으로 변형\n",
        "print(img.shape)            # (28, 28) flatten = False\n",
        "\n",
        "img_show(img)"
      ],
      "metadata": {
        "colab": {
          "base_uri": "https://localhost:8080/",
          "height": 305
        },
        "id": "NflV5oRd1iQQ",
        "outputId": "41f22282-d144-4ca4-8855-c8c8e98cdc64"
      },
      "execution_count": 39,
      "outputs": [
        {
          "output_type": "stream",
          "name": "stdout",
          "text": [
            "5\n",
            "(784,)\n",
            "(28, 28)\n"
          ]
        },
        {
          "output_type": "display_data",
          "data": {
            "text/plain": [
              "<Figure size 432x288 with 1 Axes>"
            ],
            "image/png": "[encoded data removed]"
          },
          "metadata": {
            "needs_background": "light"
          }
        }
      ]
    },
    {
      "cell_type": "markdown",
      "source": [
        "# 신경망의 추론 처리\n",
        "\n",
        "\n",
        "---\n",
        "MNIST 데이터셋을 가지고 추론을 수행하는 신경망을 구현\n",
        "\n",
        "입력층 뉴런을 784개, 출력층 뉴런을 10개로 구성. 입력층 뉴런이 784개인 이유는 이미지 크기가 28\\*28 = 784이기 떄문이고, 출력층 뉴런이 10개인 이유는 이 문제가 0에서 9까지의 숫자를 구분하는 문제이기 때문이다.\n",
        "\n",
        "은닉층은 총 두 개로 첫 번쨰 은닉층에는 50개의 뉴런을, 두 번째 은닉층에는 100개의 뉴런을 배치.여기서 50과 100은 임의로 정한 값.\n",
        "\n",
        "먼저 작업 처리를 위한 세 함수를 정의"
      ],
      "metadata": {
        "id": "GzKpnnkRG4Fj"
      }
    },
    {
      "cell_type": "code",
      "source": [
        "#1. get_data()\n",
        "def get_data():\n",
        "  (x_train, t_train), (x_test, t_test) = \\\n",
        "    load_mnist(normalize = True, flatten = True, one_hot_label = False)\n",
        "  return x_test, t_test\n",
        "\n",
        "#2. init_network()\n",
        "def init_network():\n",
        "  with open(\"sample_weight.pkl\", 'rb') as f:\n",
        "    network = pickle.load(f)\n",
        "  \n",
        "  return network\n",
        "\n",
        "#3. predict(network, x)\n",
        "def predict(network, x):\n",
        "  W1, W2, W3 = network['W1'], network['W2']. network['W3']\n",
        "  b1, b2, b3 = network['b1'], network['b2'], network['b3']\n",
        "\n",
        "  a1= np.dot(x, W1) + b1"
      ],
      "metadata": {
        "id": "p8b57N19H9sM"
      },
      "execution_count": 40,
      "outputs": []
    },
    {
      "cell_type": "code",
      "source": [
        ""
      ],
      "metadata": {
        "id": "Wquua3cdIS08"
      },
      "execution_count": null,
      "outputs": []
    }
  ]
}