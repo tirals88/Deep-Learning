{
  "nbformat": 4,
  "nbformat_minor": 0,
  "metadata": {
    "colab": {
      "name": "1권 3장 신경망(소프트맥스 부터) .ipynb",
      "provenance": [],
      "collapsed_sections": [],
      "authorship_tag": "ABX9TyPZ27KVfV41pw2F7B0DO1mJ",
      "include_colab_link": true
    },
    "kernelspec": {
      "name": "python3",
      "display_name": "Python 3"
    },
    "language_info": {
      "name": "python"
    }
  },
  "cells": [
    {
      "cell_type": "markdown",
      "metadata": {
        "id": "view-in-github",
        "colab_type": "text"
      },
      "source": [
        "<a href=\"https://colab.research.google.com/github/tirals88/Deep-Learning/blob/main/1%EA%B6%8C_3%EC%9E%A5_%EC%8B%A0%EA%B2%BD%EB%A7%9D(%EC%86%8C%ED%94%84%ED%8A%B8%EB%A7%A5%EC%8A%A4_%EB%B6%80%ED%84%B0)_.ipynb\" target=\"_parent\"><img src=\"https://colab.research.google.com/assets/colab-badge.svg\" alt=\"Open In Colab\"/></a>"
      ]
    },
    {
      "cell_type": "code",
      "source": [
        "import numpy as np\n",
        "import matplotlib.pyplot as plt"
      ],
      "metadata": {
        "id": "GJa9UfrHH8_c"
      },
      "execution_count": 1,
      "outputs": []
    },
    {
      "cell_type": "markdown",
      "source": [
        "# 소프트맥스 구현하기\n",
        "\n",
        "\n",
        "---\n",
        "신경망은 분류와 회귀 모두에서 이용할 수 있다.\n",
        "\n",
        "다만 둘 중 어떤 문제냐에 따라 출력층에서 사용하는 **활성화 함수**가 달라진다.\n",
        "\n",
        "일반적으로 회귀에는 **항등 함수 (σ)**를, 분류에는 **소프트맥스**함수를 사용한다."
      ],
      "metadata": {
        "id": "3iefrqvwHITz"
      }
    },
    {
      "cell_type": "code",
      "execution_count": 2,
      "metadata": {
        "id": "jLxjhwNIG_m4"
      },
      "outputs": [],
      "source": [
        "#항등 함수 σ\n",
        "\n",
        "def identify_function(x):\n",
        "  return x"
      ]
    },
    {
      "cell_type": "markdown",
      "source": [
        "**소프트맥스 함수 softmax function**\n",
        "\n",
        "$$ y_k = \\frac{\\exp(a_k)}{\\displaystyle\\sum_{i=1}^{n} \\exp(a_i)} $$\n",
        "\n",
        "$n$은 출력층의 뉴런 수, $y_k$는 그 중 $k$번째 출력\n",
        "\n",
        "이렇게 되면 소프트맥스의 출력은 하나의 입력값만을 고려한 것이 아닌 **모든 입력신호로 부터 영향**을 받게 됨. (분모에서 출력층의 각 뉴런이 모든 입력 신호에서 영향을 받게 된다)"
      ],
      "metadata": {
        "id": "GY2b6RIqJMXJ"
      }
    },
    {
      "cell_type": "code",
      "source": [
        "# 소프트맥스 함수 구현\n",
        "\n",
        "a = np.array([.3, 2.9, 4.])\n",
        "\n",
        "exp_a = np.exp(a)\n",
        "\n",
        "sum_exp_a = np.sum(np.exp(a))\n",
        "print(sum_exp_a)\n",
        "\n",
        "y = exp_a / sum_exp_a\n",
        "print(y)"
      ],
      "metadata": {
        "colab": {
          "base_uri": "https://localhost:8080/"
        },
        "id": "f_PCn_uVJIkg",
        "outputId": "0d605994-4a45-48de-aff3-b283fa032eb2"
      },
      "execution_count": 3,
      "outputs": [
        {
          "output_type": "stream",
          "name": "stdout",
          "text": [
            "74.1221542101633\n",
            "[0.01821127 0.24519181 0.73659691]\n"
          ]
        }
      ]
    },
    {
      "cell_type": "code",
      "source": [
        "def sofmax(a):\n",
        "  exp_a = np.exp(a)\n",
        "  sum_exp_a = np.sum(exp_a)\n",
        "\n",
        "  y = exp_a / sum_exp_a\n",
        "  \n",
        "  return y"
      ],
      "metadata": {
        "id": "RRZyaeT_b4LX"
      },
      "execution_count": 4,
      "outputs": []
    },
    {
      "cell_type": "markdown",
      "source": [
        "# **소프트 맥스 함수 구현 시 주의점**\n",
        "\n",
        "---\n",
        "\n",
        "\n",
        "\n",
        "$#.1$ **오버플로우 문제**\n",
        "\n",
        "지수 함수는 큰 값을 내기 쉽다. $e^{10}$은 20,000이 넘고, $e^{100}$은 0이 40개가 넘어가 $e^{1000}$은 무한대 $inf$가 되어 돌아옴."
      ],
      "metadata": {
        "id": "8Kqsh4qHcnRG"
      }
    },
    {
      "cell_type": "markdown",
      "source": [
        "위 문제를 해결하도록 개선\n",
        "\n",
        "$${y_k = \\frac{\\exp(a_k)}{\\displaystyle\\sum_{i=1}^{n}\\exp(a_i)}= \\frac{C\\exp(a_k)}{\\displaystyle\\sum_{i=1}^{n}C\\exp(a_i)}}$$\n",
        "<br/>$${=\\frac{\\exp(a_k + \\log{C})}{\\displaystyle\\sum_{i=1}^{n}\\exp(a_i + \\log{C})}}=\\frac{\\exp(a_k + C^{'})}{\\displaystyle\\sum_{i=1}^{n}\\exp(a_i + C^{'})}$$\n",
        "<br/><br/>$$C = \\exp(\\log{C}) = \\exp(C^{'})$$"
      ],
      "metadata": {
        "id": "MhPT8XQwhFVR"
      }
    },
    {
      "cell_type": "markdown",
      "source": [
        "**어떠한 정수를 더하거나 뺴도 결과는 바뀌지 않기에** 오버플로우를 막는 목적으로\n",
        "\n",
        "**입력 신호 중 최댓값을 이용**하는 것이 일반적이다."
      ],
      "metadata": {
        "id": "NwD4XE23nCEt"
      }
    },
    {
      "cell_type": "code",
      "source": [
        "a = np.array([1010, 1000, 990])\n",
        "print(np.exp(a) / np.sum(np.exp(a)))\n",
        "\n",
        "c = np.max(a)\n",
        "A = a - c\n",
        "print(A)\n",
        "print(np.exp(A) / np.sum(np.exp(A)))"
      ],
      "metadata": {
        "colab": {
          "base_uri": "https://localhost:8080/"
        },
        "id": "o78tlkZZcg2w",
        "outputId": "68ad27e7-321d-4e02-9bb5-127c2ab80a1e"
      },
      "execution_count": 5,
      "outputs": [
        {
          "output_type": "stream",
          "name": "stdout",
          "text": [
            "[nan nan nan]\n",
            "[  0 -10 -20]\n",
            "[9.99954600e-01 4.53978686e-05 2.06106005e-09]\n"
          ]
        },
        {
          "output_type": "stream",
          "name": "stderr",
          "text": [
            "/usr/local/lib/python3.7/dist-packages/ipykernel_launcher.py:2: RuntimeWarning: overflow encountered in exp\n",
            "  \n",
            "/usr/local/lib/python3.7/dist-packages/ipykernel_launcher.py:2: RuntimeWarning: invalid value encountered in true_divide\n",
            "  \n"
          ]
        }
      ]
    },
    {
      "cell_type": "markdown",
      "source": [
        "위와 같이 아무런 조치 없이 계산하면 **nan** (not a number)이 출력 됨"
      ],
      "metadata": {
        "id": "Zzd1LGBYoKgh"
      }
    },
    {
      "cell_type": "code",
      "source": [
        "def softmax(a):\n",
        "  max = np.max(a)\n",
        "  exp_a = np.exp(a-max)\n",
        "  y = (exp_a) / np.sum(exp_a)\n",
        "  return y\n",
        "\n",
        "print(softmax(a))"
      ],
      "metadata": {
        "colab": {
          "base_uri": "https://localhost:8080/"
        },
        "id": "tQjnRVn_nvGB",
        "outputId": "038e9534-e7a5-409b-80b6-f99d7aae855a"
      },
      "execution_count": 6,
      "outputs": [
        {
          "output_type": "stream",
          "name": "stdout",
          "text": [
            "[9.99954600e-01 4.53978686e-05 2.06106005e-09]\n"
          ]
        }
      ]
    },
    {
      "cell_type": "markdown",
      "source": [
        "# 소프트맥스 함수의 특징\n",
        "\n",
        "---\n",
        "\n"
      ],
      "metadata": {
        "id": "ul_zn6jRpMtr"
      }
    },
    {
      "cell_type": "code",
      "source": [
        "K = np.array([.3, 2.9, 4.])\n",
        "y = softmax(K)\n",
        "print(y)\n",
        "\n",
        "print(np.sum(y))"
      ],
      "metadata": {
        "colab": {
          "base_uri": "https://localhost:8080/"
        },
        "id": "aoa1AZhdomjO",
        "outputId": "4a311db5-b00a-4efc-d6ef-765cebfe8cbc"
      },
      "execution_count": 7,
      "outputs": [
        {
          "output_type": "stream",
          "name": "stdout",
          "text": [
            "[0.01821127 0.24519181 0.73659691]\n",
            "1.0\n"
          ]
        }
      ]
    },
    {
      "cell_type": "markdown",
      "source": [
        "위와 같이 소프트맥스 함수의 출력은 항상 0 ~ 1.0 사이의 실수이며 총합은 1이 된다.\n",
        "\n",
        "이를 이용해 소프트맥스 함수의 출력을 **'확률'**로 해석할 수 있다."
      ],
      "metadata": {
        "id": "eEKMO5TLppWe"
      }
    },
    {
      "cell_type": "markdown",
      "source": [
        "위의 값을 확률로 보자면 1.8% / 24.5% / 73.7%가 된다.<br/>이 결과 y[2]의 확률이 가장 높으니 답은 2번쨰 클래스다 라고 할 수 있다.<br/>즉 소프트맥스 함수를 이용함으로써 문제를 확률적/통계적으로 대응할 수 있게 되었다."
      ],
      "metadata": {
        "id": "xNwibEH1sKVn"
      }
    },
    {
      "cell_type": "markdown",
      "source": [
        "$#.1$ 소프트맥스 함수를 적용해도 각 원소의 대소 관계는 변하지 않는다.<br/>신경망을 이용한 분류에서는 일반적으로 가장 큰 출력을 내는 뉴런에 해당하는 클래스로만 인식한다.<br/>그리고 소프트맥스 함수를 적용해도 출력이 가장 큰 뉴런의 위치는 달라지지 않는다.<br/><br/>결과적으로 신경망으로 분류할 때 소프트맥스 함수를 생략해도 되어 일반적으로 생략된다."
      ],
      "metadata": {
        "id": "2-uzOF_rsv8t"
      }
    },
    {
      "cell_type": "markdown",
      "source": [
        "$#.2$ 출력층의 뉴런 수 정하기\n",
        "\n",
        "분류에서는 분류하고 싶은 클래스 수로 설정하는 것이 일반적이다."
      ],
      "metadata": {
        "id": "L4eFlwK7wL5h"
      }
    },
    {
      "cell_type": "markdown",
      "source": [
        "# 손글씨 숫자 인식\n",
        "\n",
        "---\n",
        "이미 학습된 매개변수를 사용하여 학습 과정은 색략. 추론 과정만 구현 /// 이 추론 과정을 신경망의 **순전파(forward propagation)**라고도 한다."
      ],
      "metadata": {
        "id": "X-9IkcjGwdv1"
      }
    },
    {
      "cell_type": "code",
      "source": [
        "#1. MNIST 데이터셋 (훈련 이미지가 60,000장, 시험 이미지가 10,000장)\n",
        "#이미지 데이터는 28X28 회색조 이미지(1채널)이며, 각 픽셀은 0-255까지의 값\n"
      ],
      "metadata": {
        "id": "-tRBbBq5pn94"
      },
      "execution_count": 8,
      "outputs": []
    },
    {
      "cell_type": "code",
      "source": [
        "import sys, os\n",
        "sys.path.append(os.pardir)\n",
        "from dataset.mnist import load_mnist"
      ],
      "metadata": {
        "colab": {
          "base_uri": "https://localhost:8080/",
          "height": 367
        },
        "id": "XkCUOFYzyMdO",
        "outputId": "c862aed1-f17f-4b0b-9b44-da865f339bb3"
      },
      "execution_count": 9,
      "outputs": [
        {
          "output_type": "error",
          "ename": "ModuleNotFoundError",
          "evalue": "ignored",
          "traceback": [
            "\u001b[0;31m---------------------------------------------------------------------------\u001b[0m",
            "\u001b[0;31mModuleNotFoundError\u001b[0m                       Traceback (most recent call last)",
            "\u001b[0;32m<ipython-input-9-089430496d96>\u001b[0m in \u001b[0;36m<module>\u001b[0;34m()\u001b[0m\n\u001b[1;32m      1\u001b[0m \u001b[0;32mimport\u001b[0m \u001b[0msys\u001b[0m\u001b[0;34m,\u001b[0m \u001b[0mos\u001b[0m\u001b[0;34m\u001b[0m\u001b[0;34m\u001b[0m\u001b[0m\n\u001b[1;32m      2\u001b[0m \u001b[0msys\u001b[0m\u001b[0;34m.\u001b[0m\u001b[0mpath\u001b[0m\u001b[0;34m.\u001b[0m\u001b[0mappend\u001b[0m\u001b[0;34m(\u001b[0m\u001b[0mos\u001b[0m\u001b[0;34m.\u001b[0m\u001b[0mpardir\u001b[0m\u001b[0;34m)\u001b[0m\u001b[0;34m\u001b[0m\u001b[0;34m\u001b[0m\u001b[0m\n\u001b[0;32m----> 3\u001b[0;31m \u001b[0;32mfrom\u001b[0m \u001b[0mdataset\u001b[0m\u001b[0;34m.\u001b[0m\u001b[0mmnist\u001b[0m \u001b[0;32mimport\u001b[0m \u001b[0mload_mnist\u001b[0m\u001b[0;34m\u001b[0m\u001b[0;34m\u001b[0m\u001b[0m\n\u001b[0m",
            "\u001b[0;31mModuleNotFoundError\u001b[0m: No module named 'dataset'",
            "",
            "\u001b[0;31m---------------------------------------------------------------------------\u001b[0;32m\nNOTE: If your import is failing due to a missing package, you can\nmanually install dependencies using either !pip or !apt.\n\nTo view examples of installing some common dependencies, click the\n\"Open Examples\" button below.\n\u001b[0;31m---------------------------------------------------------------------------\u001b[0m\n"
          ],
          "errorDetails": {
            "actions": [
              {
                "action": "open_url",
                "actionText": "Open Examples",
                "url": "/notebooks/snippets/importing_libraries.ipynb"
              }
            ]
          }
        }
      ]
    },
    {
      "cell_type": "code",
      "source": [
        "#Google Drive에 mnist파일을 직접 clone먼저 하기\n",
        "#드라이브연동\n",
        "from google.colab import drive\n",
        "drive.mount(\"/content/drive\")"
      ],
      "metadata": {
        "colab": {
          "base_uri": "https://localhost:8080/"
        },
        "id": "qxePVv9JybW-",
        "outputId": "02e8207d-2282-492e-a235-3ffc2c247b06"
      },
      "execution_count": 11,
      "outputs": [
        {
          "output_type": "stream",
          "name": "stdout",
          "text": [
            "Mounted at /content/drive\n"
          ]
        }
      ]
    },
    {
      "cell_type": "code",
      "source": [
        "cd '/content/drive/My Drive/DLscratch'"
      ],
      "metadata": {
        "id": "J0qa2CUg5COo"
      },
      "execution_count": null,
      "outputs": []
    },
    {
      "cell_type": "code",
      "source": [
        "!git clone https://github.com/WegraLee/deep-learning-from-scratch.git"
      ],
      "metadata": {
        "id": "gXiJVks-39lT"
      },
      "execution_count": null,
      "outputs": []
    },
    {
      "cell_type": "code",
      "source": [
        "cd '/content/drive/My Drive/DLscratch/deep-learning-from-scratch/ch03'"
      ],
      "metadata": {
        "colab": {
          "base_uri": "https://localhost:8080/"
        },
        "id": "83pC_4E16xQF",
        "outputId": "76c0879c-b8bf-4c9d-d6b7-59cadefd1c0e"
      },
      "execution_count": 12,
      "outputs": [
        {
          "output_type": "stream",
          "name": "stdout",
          "text": [
            "/content/drive/My Drive/DLscratch/deep-learning-from-scratch/ch03\n"
          ]
        }
      ]
    },
    {
      "cell_type": "code",
      "source": [
        "import sys, os\n",
        "sys.path.append(os.pardir)\n",
        "from dataset.mnist import load_mnist"
      ],
      "metadata": {
        "id": "_1cBitCe5Z-o"
      },
      "execution_count": 13,
      "outputs": []
    },
    {
      "cell_type": "markdown",
      "source": [
        "mnist.py 파일이 deep-learning-from-scratch/dataset/ 에 위치하도록 설정 후, 이 파일은 deep-learning-from-scartch/ch03/에 위치\n",
        "\n",
        "이후 부모디렉터리의 파일을 가져올 수 있도록 설정 하고 load_mnist 함수를 임포트\n",
        "\n"
      ],
      "metadata": {
        "id": "OgtOMtP901IL"
      }
    },
    {
      "cell_type": "code",
      "source": [
        "(x_train, t_train), (x_test, t_test) = \\\n",
        "  load_mnist(flatten=True, normalize=False)\n",
        "\n",
        "print(x_train.shape)\n",
        "print(t_train.shape)\n",
        "print(x_test.shape)\n",
        "print(t_test.shape)"
      ],
      "metadata": {
        "colab": {
          "base_uri": "https://localhost:8080/"
        },
        "id": "Sf7_k5L5uyc6",
        "outputId": "331d2cfd-dfce-4b1d-870c-6fe03a3a8b79"
      },
      "execution_count": 14,
      "outputs": [
        {
          "output_type": "stream",
          "name": "stdout",
          "text": [
            "(60000, 784)\n",
            "(60000,)\n",
            "(10000, 784)\n",
            "(10000,)\n"
          ]
        }
      ]
    },
    {
      "cell_type": "markdown",
      "source": [
        "load_mnist 함수는 읽은 MNIST 데이터를 \"(훈련 이미지, 훈련 레이블), (시험 이미지, 시험레이블)\" 형식으로 반환한다.\n",
        "\n",
        "인수로는 normalize, flatten, one_hot_label 세 가지를 설정할 수 있다.\n",
        "\n",
        "세 인수 모두 bool 값이며 첫 번째 인수 **normalize**는 입력 이미지의 픽셀값을 0.0 ~ 1.0 사이의 값으로 정규화할지를 정한다. False로 설정하면 입력 이미지의 픽셀값은 원래 값 그대로 0 ~ 255 사이의 값을 유지한다.\n",
        "\n",
        "두 번째 인수인 flatten은 입력 이미지를 평탄하게, 즉 1차원 배열로 만들지를 정한다. False로 설정하면 입력 이미지를 1 \\* 28 \\* 28 의 3차원 배열로, True로 설정하면 784개의 원소로 이뤄진 1차원 배열로 저장합니다.\n",
        "\n",
        "세 번째 인수인 one_hot_label은 레이블을 **원-핫 인코딩** 형태로 저장할지를 정한다. 원-핫 인코딩이란, 예를 들어 [0, 0, 1, 0, 0, 0, 0, 0, 0, 0,] 처럼 정답을 뜻하는 원소만 1이고 ( hot하고 ) 나머지는 모두 0인 배열이다. one_hot_label이 False면 '7'이나 '2'와 같이 숫자 형태의 레이블을 저장하고, True 일 때는 레이블을  원-핫 인코딩하여 저장한다."
      ],
      "metadata": {
        "id": "bdge1aU-6o5k"
      }
    },
    {
      "cell_type": "code",
      "source": [
        "%matplotlib inline\n",
        "import sys, os\n",
        "sys.path.append(os.pardir)\n",
        "import numpy as np\n",
        "from dataset.mnist import load_mnist\n",
        "from PIL import Image\n",
        "from matplotlib import pyplot as plt\n",
        "\n",
        "def img_show(img):\n",
        "  plt.axis(False)\n",
        "  plt.imshow(img)\n",
        "\n",
        "(x_train, t_train), (x_test, t_test) = \\\n",
        "  load_mnist(flatten = True, normalize = False)\n",
        "\n",
        "img = x_train[510]\n",
        "label = t_train[0]\n",
        "\n",
        "print(label) # 5\n",
        "\n",
        "print(img.shape)            # (784, ) flatten = True \n",
        "img = img.reshape(28, 28)   # 원래 이미지의 모양으로 변형\n",
        "print(img.shape)            # (28, 28) flatten = False\n",
        "\n",
        "img_show(img)"
      ],
      "metadata": {
        "colab": {
          "base_uri": "https://localhost:8080/",
          "height": 305
        },
        "id": "NflV5oRd1iQQ",
        "outputId": "23104f68-4a1d-4169-8e3c-0c7179c6b81a"
      },
      "execution_count": 15,
      "outputs": [
        {
          "output_type": "stream",
          "name": "stdout",
          "text": [
            "5\n",
            "(784,)\n",
            "(28, 28)\n"
          ]
        },
        {
          "output_type": "display_data",
          "data": {
            "text/plain": [
              "<Figure size 432x288 with 1 Axes>"
            ],
            "image/png": "[encoded data removed]"
          },
          "metadata": {
            "needs_background": "light"
          }
        }
      ]
    },
    {
      "cell_type": "markdown",
      "source": [
        "# 신경망의 추론 처리\n",
        "\n",
        "\n",
        "---\n",
        "MNIST 데이터셋을 가지고 추론을 수행하는 신경망을 구현\n",
        "\n",
        "입력층 뉴런을 784개, 출력층 뉴런을 10개로 구성. 입력층 뉴런이 784개인 이유는 이미지 크기가 28\\*28 = 784이기 떄문이고, 출력층 뉴런이 10개인 이유는 이 문제가 0에서 9까지의 숫자를 구분하는 문제이기 때문이다.\n",
        "\n",
        "은닉층은 총 두 개로 첫 번쨰 은닉층에는 50개의 뉴런을, 두 번째 은닉층에는 100개의 뉴런을 배치.여기서 50과 100은 임의로 정한 값.\n",
        "\n",
        "먼저 작업 처리를 위한 세 함수를 정의"
      ],
      "metadata": {
        "id": "GzKpnnkRG4Fj"
      }
    },
    {
      "cell_type": "code",
      "source": [
        "def sigmoid(x):\n",
        "  a = 1/(1+np.exp(-x))\n",
        "\n",
        "  return a"
      ],
      "metadata": {
        "id": "9_FSl5aMcQC4"
      },
      "execution_count": 16,
      "outputs": []
    },
    {
      "cell_type": "code",
      "source": [
        "import pickle\n",
        "\n",
        "#1. get_data()\n",
        "def get_data():\n",
        "  (x_train, t_train), (x_test, t_test) = \\\n",
        "    load_mnist(normalize = True, flatten = True, one_hot_label = False)\n",
        "  return x_test, t_test\n",
        "\n",
        "#2. init_network()\n",
        "def init_network():\n",
        "  with open(\"sample_weight.pkl\", 'rb') as f:\n",
        "    network = pickle.load(f)\n",
        "  \n",
        "  return network\n",
        "\n",
        "#3. predict(network, x)\n",
        "def predict(network, x):\n",
        "  W1, W2, W3 = network['W1'], network['W2'], network['W3']\n",
        "  b1, b2, b3 = network['b1'], network['b2'], network['b3']\n",
        "\n",
        "  a1 = np.dot(x, W1) + b1\n",
        "  z1 = sigmoid(a1)\n",
        "  a2 = np.dot(z1, W2) + b2\n",
        "  z2 = sigmoid(a2)\n",
        "  a3 = np.dot(z2, W3) + b3\n",
        "  y = softmax(a3)\n",
        "\n",
        "  return y"
      ],
      "metadata": {
        "id": "p8b57N19H9sM"
      },
      "execution_count": 17,
      "outputs": []
    },
    {
      "cell_type": "markdown",
      "source": [
        "저장된 '학습된 가중치 매개변수' 파일인 sample_weight.pkl 을 읽어 가중치와 편향 매개변수 사용"
      ],
      "metadata": {
        "id": "uDW5ruVQdfnE"
      }
    },
    {
      "cell_type": "code",
      "source": [
        "x, t = get_data()\n",
        "network = init_network()\n",
        "\n",
        "accuracy_cnt = 0\n",
        "for i in range(len(x)):\n",
        "  y = predict(network, x[i])\n",
        "  p = np.argmax(y)\n",
        "  if p == t[i]:\n",
        "    accuracy_cnt += 1\n",
        "\n",
        "print(\"Accuracy : \" + str(float(accuracy_cnt)/len(x)))\n",
        "print(accuracy_cnt)\n",
        "print(len(x))"
      ],
      "metadata": {
        "colab": {
          "base_uri": "https://localhost:8080/"
        },
        "id": "Wquua3cdIS08",
        "outputId": "872bc738-577e-4d87-c6e3-b91712791cd0"
      },
      "execution_count": 20,
      "outputs": [
        {
          "output_type": "stream",
          "name": "stdout",
          "text": [
            "Accuracy : 0.9352\n",
            "9352\n",
            "10000\n"
          ]
        }
      ]
    },
    {
      "cell_type": "markdown",
      "source": [
        "%% 1 . 실수 %%\n",
        "\n",
        "위 함수 **predict(network, x)** 에서 마지막 \n",
        "\n",
        "```\n",
        "return y\n",
        "```\n",
        "\n",
        "\n",
        " 를 해주지 않고 아래 검증 식을 돌리자 accuracy_cnt = 0.098이 나오게 되었다.\n",
        "\n",
        "print(y) = None 으로 predict()가 출력값이 없어 None 이 되었지만 p = np\n",
        "\n",
        "```\n",
        "p = np.argmax(y)\n",
        "```\n",
        "는 출력 값이 존재하여 accuracy_cnt 가 0이 아니가 되었다.\n",
        "이는 np.argmax(y)가 default 값이 0 이고, t[ i ]가 0 의 값을 980개 가지고 있어서 나온 값이었다.\n"
      ],
      "metadata": {
        "id": "k95xYU0WjFzo"
      }
    },
    {
      "cell_type": "markdown",
      "source": [
        "# 처리 과정 분석\n",
        "\n",
        "1.   get_data()를 통해 MNIST 데이터셋을 얻고 init_network()를 통해 네트워크를 생성 ( 그 중에서도, x_test 와 t_test) 만을 이용\n",
        "2.   for 문으로 x (x_test)에 저장된 이미지 데이터를 1장씩 predict(network, x[i])함수를 통해 각 출력층에 대한 확률을 넘파이 배열로 반환\n",
        "3. np.argmax() 함수를 통해 배열 중 가장 값이 큰 원소의 인덱스를 추출한다.\n",
        "4. 추출된 인덱스 값이 예측 결과가 되고 예측한 답변과 정답 레이블 (  t_test  )을 비교해 얼마자 맞추었는지 (  accuracy_cnt  )를 세고 전체 이미지 숫자로 나누어 정확도를 구한다.\n",
        "\n",
        "\n",
        "\n",
        "---\n",
        "\n",
        "이 과정에서\n",
        "\n",
        "```\n",
        "def get_data():\n",
        "  (x_train, t_train), (x_test, t_test) = \\\n",
        "    load_mnist(normalize = True, flatten = True, one_hot_label = False)\n",
        "  return x_test, t_test\n",
        "```\n",
        "normalize 를 True 로 설정하여 각 픽셀의 값을 0 ~ 255 에서 0.0 ~ 1.0 으로 변환하였다. 이러한 데이터를 특정범위로 변환하는 처리를 정규화 ( normalize ) 라고 하고,\n",
        "\n",
        "신경망의 입력 데이터에 특정 변환을 가하는 것을 **전처리 pre_processing** 라 한다.\n",
        "\n",
        "여기서는 입력 이미지 데이터에 대한 전처리 작업으로 정규화를 수행한 것이다."
      ],
      "metadata": {
        "id": "T6R6fi_rka27"
      }
    },
    {
      "cell_type": "markdown",
      "source": [
        "# 배치 처리\n",
        "\n",
        "---\n",
        "\n",
        "입력 데이터와 가중치 매개변수의 '형상'에 주의해서 조금 전의 구현을 다시 살펴본다."
      ],
      "metadata": {
        "id": "RZ7XPYcacOaI"
      }
    },
    {
      "cell_type": "code",
      "source": [
        "x, _ = get_data()\n",
        "network = init_network()\n",
        "W1, W2, W3 = network['W1'], network['W2'], network['W3']\n",
        "\n",
        "print(x.shape)\n",
        "print(x[0].shape)\n",
        "print(W1.shape)\n",
        "print(W2.shape)\n",
        "print(W3.shape)"
      ],
      "metadata": {
        "colab": {
          "base_uri": "https://localhost:8080/"
        },
        "id": "-zh4jvPObkV8",
        "outputId": "b9a2fd4f-4420-4618-849b-880919c4dfcf"
      },
      "execution_count": 22,
      "outputs": [
        {
          "output_type": "stream",
          "name": "stdout",
          "text": [
            "(10000, 784)\n",
            "(784,)\n",
            "(784, 50)\n",
            "(50, 100)\n",
            "(100, 10)\n"
          ]
        }
      ]
    },
    {
      "cell_type": "markdown",
      "source": [
        "위 결과에서 다차원 배열의 대응하는 차원의 원소 수가 일치함을 확인할 수 있다.\n",
        "\n",
        "x 안에는 1 X 784 꼴의 행렬이 10000개 있으며, 각각의 x 원소는 784 X 50 꼴의 가중치 W1의 원소들과 행렬곱을 통해 1 X 50 꼴의 행렬이 된다.\n",
        "\n",
        "W2, W3 또한 위와 같이 반복하여 최종결과로는 원소가 10개인 1차원 배열 y ( 1 X 10 꼴의 행렬 )가 출력된다.\n",
        "\n",
        "---\n",
        "x[0]과 y[0]에는 0번째 이미지와 그 추론 결과가, x[1]과 y[1]에는 1번째의 이미지와 그 결과가 저장되는 식이 된다.\n",
        "\n",
        "이러한 하나로 묶은 입력 데이터를 배치 **batch** 라 한다.\n",
        "\n",
        "이러한 배치 처리는 컴퓨터로 계산할 떄 이점이 크다. 컴퓨터에서는 큰 배열을 한꺼번에 계산하는 것이 분할된 작은 배열을 여러 번 계산하는 것보다 빠르다.\n"
      ],
      "metadata": {
        "id": "IXZJnfbUdfH2"
      }
    },
    {
      "cell_type": "code",
      "source": [
        "x, t = get_data()\n",
        "network = init_network()\n",
        "\n",
        "batch_size = 100 #배치크기\n",
        "accuracy_cnt = 0\n",
        "\n",
        "for i in range(0, len(x), batch_size):\n",
        "  x_batch = x[i:i+batch_size]\n",
        "  y_batch = predict(network, x_batch)\n",
        "  p = np.argmax(y_batch, axis = 1)\n",
        "  accuracy_cnt += np.sum(p == t[i:i+batch_size])\n",
        "\n",
        "print(\"Accuracy : \" + str(float(accuracy_cnt) / len(x)))"
      ],
      "metadata": {
        "colab": {
          "base_uri": "https://localhost:8080/"
        },
        "id": "CpkHNtGsdJkp",
        "outputId": "2ce4871f-0d16-4f32-e88e-1100bdad03f7"
      },
      "execution_count": 24,
      "outputs": [
        {
          "output_type": "stream",
          "name": "stdout",
          "text": [
            "Accuracy : 0.9352\n"
          ]
        }
      ]
    },
    {
      "cell_type": "markdown",
      "source": [
        "**#1.** range()\n",
        "\n",
        "range(start, end, step) 처럼 인수가 3개가 되면 start에서 step - 1 까지 step 간격으로 증가하는 리스트를 반환한다.\n",
        "\n",
        "**#2.** argmax()\n",
        "\n",
        "argmax 는 최댓값의 인덱스를 가져오게된다. 여기서 axis = 1 이라는 인수를 추가하여 1번째 차원을 구성하는 각 원소에서 최댓값의 인덱스를 찾도록 한다."
      ],
      "metadata": {
        "id": "yo-rJrqqv8IV"
      }
    },
    {
      "cell_type": "code",
      "source": [
        "a = np.array([[.1, .8, .1], [.3, .1, .6], [.2, .5, .3], [.8, .1, .1]])\n",
        "\n",
        "b = np.argmax(a, axis = 1)\n",
        "print(b)\n",
        "print('print(a)  = \\n', a)"
      ],
      "metadata": {
        "colab": {
          "base_uri": "https://localhost:8080/"
        },
        "id": "Fij4sCBquNnU",
        "outputId": "0f22e421-bd06-4396-d69b-7ff886b9cc7d"
      },
      "execution_count": 34,
      "outputs": [
        {
          "output_type": "stream",
          "name": "stdout",
          "text": [
            "[1 2 1 0]\n",
            "print(a)  = \n",
            " [[0.1 0.8 0.1]\n",
            " [0.3 0.1 0.6]\n",
            " [0.2 0.5 0.3]\n",
            " [0.8 0.1 0.1]]\n"
          ]
        }
      ]
    },
    {
      "cell_type": "markdown",
      "source": [
        "위 print(a) 에서 4개의 리스트들은 각각 y=predict(network, x[i]) 라 보게되면\n",
        "\n",
        "[0.1, 0.8, 0.1] 과 같은 리스트는 1번쨰 원소의 확률이 가장 크다고 해석하면 된다.\n",
        "\n",
        "따라서 b 는 위 네 원소 ( a[0] ~ a[3] )에 대해서 각각 가장 높은 확률 ( index )를 뽑아낸다고 보면 된다.\n",
        "\n",
        "---\n",
        "\n",
        "1. 다시 말해 위의 달라진 식은 predict를 x[i] 하나에 대해서만 가동하는 식을 batch_size 를 100으로 두어 100개를 한번에 계산하도록 한 것이다.\n",
        "\n",
        "2. 그래서 복잡해 보이지만 y_batch는 그저 원래의 y = predict(~) 를 100개 합쳐 출력한 것 뿐이게 된다. \n",
        "\n",
        "3. 이어서 p 또한 하나의 리스트에 대한 최댓값을 출력하는 것이 아닌 출력된 최댓값을 100개 모아서 새로운 리스트를 만든 것 뿐이게 된다."
      ],
      "metadata": {
        "id": "OwGWoUpyxntO"
      }
    },
    {
      "cell_type": "markdown",
      "source": [
        "# 정리\n",
        "\n",
        "여기까지가 신경망의 순전파를 설명한 내용이다. \n",
        "퍼셉트론에 이어 신경망은 각 층의 뉴런들이 다음 층의 뉴런으로 신호를 전달하는 것을 살펴보았다.\n",
        "\n",
        "하지만 다른 뉴런으로 갈 때 신호를 변화시키는 활성화 함수에 큰 차이가 있다. 신경망에서는 매끄럽게 변화하는 시그모이드 함수를, 퍼셉트론에서는 갑자기 변화하는 계단 함수를 활성화 함수로 사용하였다. \n",
        "이 차이가 신경망 학습에 중요하다."
      ],
      "metadata": {
        "id": "9iqnWzFTz4mH"
      }
    }
  ]
}