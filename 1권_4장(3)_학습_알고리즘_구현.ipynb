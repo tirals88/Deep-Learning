{
  "nbformat": 4,
  "nbformat_minor": 0,
  "metadata": {
    "colab": {
      "name": "1권 4장(3) 학습 알고리즘 구현.ipynb",
      "provenance": [],
      "authorship_tag": "ABX9TyO/08LxqYpFSAZGrxSTeuZ/",
      "include_colab_link": true
    },
    "kernelspec": {
      "name": "python3",
      "display_name": "Python 3"
    },
    "language_info": {
      "name": "python"
    },
    "gpuClass": "standard",
    "accelerator": "GPU"
  },
  "cells": [
    {
      "cell_type": "markdown",
      "metadata": {
        "id": "view-in-github",
        "colab_type": "text"
      },
      "source": [
        "<a href=\"https://colab.research.google.com/github/tirals88/Deep-Learning-from-Scratch/blob/main/1%EA%B6%8C_4%EC%9E%A5(3)_%ED%95%99%EC%8A%B5_%EC%95%8C%EA%B3%A0%EB%A6%AC%EC%A6%98_%EA%B5%AC%ED%98%84.ipynb\" target=\"_parent\"><img src=\"https://colab.research.google.com/assets/colab-badge.svg\" alt=\"Open In Colab\"/></a>"
      ]
    },
    {
      "cell_type": "code",
      "execution_count": 2,
      "metadata": {
        "id": "mYzE6Fdgaqmy"
      },
      "outputs": [],
      "source": [
        "import numpy as np\n",
        "import matplotlib.pyplot as plt"
      ]
    },
    {
      "cell_type": "code",
      "source": [
        "#드라이브연동\n",
        "from google.colab import drive\n",
        "drive.mount(\"/content/drive\")"
      ],
      "metadata": {
        "colab": {
          "base_uri": "https://localhost:8080/"
        },
        "id": "WHXiB0epa7XU",
        "outputId": "0ae5d054-6a86-4cf2-da14-4547a91d38d8"
      },
      "execution_count": 3,
      "outputs": [
        {
          "output_type": "stream",
          "name": "stdout",
          "text": [
            "Mounted at /content/drive\n"
          ]
        }
      ]
    },
    {
      "cell_type": "code",
      "source": [
        "cd '/content/drive/My Drive/DLscratch/deep-learning-from-scratch/ch04'"
      ],
      "metadata": {
        "colab": {
          "base_uri": "https://localhost:8080/"
        },
        "id": "i1AOQCYt29R2",
        "outputId": "b9bd7bf6-0b83-423f-b117-4234448fd05b"
      },
      "execution_count": 4,
      "outputs": [
        {
          "output_type": "stream",
          "name": "stdout",
          "text": [
            "/content/drive/My Drive/DLscratch/deep-learning-from-scratch/ch04\n"
          ]
        }
      ]
    },
    {
      "cell_type": "markdown",
      "source": [
        "# 학습 알고리즘 구현하기\n",
        "\n",
        "---\n",
        "\n",
        "- 전체적인 절차 !\n",
        "\n",
        "신경망에는 적응 가능한 가중치와 편향이 있고, 이 가중치와 편향을 훈련 데이터에 적응하도록 조정하는 과정을 '학습 ( training )'이라고 한다. 다음과 같은 4단계로 수행한다.\n",
        "\n",
        "- 1단계 - 미니배치\n",
        "\n",
        "훈련 데이터 중 일부를 무작위로 가져온다. 이렇게 선별한 데이터를 미니배치라 하며, 그 미니배치의 손실 함수 값을 줄이는 것이 목표이다."
      ],
      "metadata": {
        "id": "1w0uheJYC4Sj"
      }
    },
    {
      "cell_type": "code",
      "source": [
        "# 미니배치\n",
        "\n",
        "batch_mask = np.random.choice(60000, 10)\n",
        "print(batch_mask)"
      ],
      "metadata": {
        "colab": {
          "base_uri": "https://localhost:8080/"
        },
        "id": "aNEsg_c0Jg8N",
        "outputId": "b707f95b-3766-47db-cde9-47a7bb0302a5"
      },
      "execution_count": 5,
      "outputs": [
        {
          "output_type": "stream",
          "name": "stdout",
          "text": [
            "[ 1116 21063 23281 40060 23019 42387 38044 30782 16284 40066]\n"
          ]
        }
      ]
    },
    {
      "cell_type": "code",
      "source": [
        "# np.argamx() 이해\n",
        "\n",
        "x = np.array([[.1, .7, .2], [.3, .1, .6],[.2, .5, .3],[.8, .1, .1]])\n",
        "y= np.argmax(x)\n",
        "print(y) # x.reshape(1, x.size) 한 이후 나온 index 와 같음\n",
        "\n",
        "x2 = np.array([[1, 2, 3], [9, 8, 7], [10, 12, 11], [5, 6, 7]])\n",
        "y2 = np.argmax(x2,axis = 0)\n",
        "y3 = np.argmax(x2,axis = 1)\n",
        "\n",
        "print(y2, y3)\n",
        "\n",
        "# axis = 0 , 1 -> y, x 축 순 ( 0차원 , 1차원 순 임)"
      ],
      "metadata": {
        "colab": {
          "base_uri": "https://localhost:8080/"
        },
        "id": "vtMomQAOC2r5",
        "outputId": "4143c887-6eba-4702-a2f0-2d27af1e4e75"
      },
      "execution_count": 6,
      "outputs": [
        {
          "output_type": "stream",
          "name": "stdout",
          "text": [
            "9\n",
            "[2 2 2] [2 0 1 2]\n"
          ]
        }
      ]
    },
    {
      "cell_type": "markdown",
      "source": [
        "- 2단계 - 기울기 산출\n",
        "\n",
        "미니배치의 손실 함수 값을 줄이기 위해 각 가중치 매개변수의 기울기를 구한다. 기울기는 손실 함수의 값을 가장 작게하는 방향을 제시한다.\n",
        "\n",
        "- 3단계 - 매개변수 갱신\n",
        "\n",
        "가중치 매개변수를 기울기 방향으로 아주 조금 갱신한다.\n",
        "\n",
        "- 4단계  - 반복\n",
        "\n",
        "1~3단계를 반복한다."
      ],
      "metadata": {
        "id": "F0PdwPeCJI6c"
      }
    },
    {
      "cell_type": "markdown",
      "source": [
        "위 과정은 경사 하강법으로 매개변수를 갱신하는 방법이며, 이 때 데이터를 미니배치로 무작위로 선정하기 때문에 확률적 경사 하강법이라고 부른다. - SGD"
      ],
      "metadata": {
        "id": "kuctgAo_QQpl"
      }
    },
    {
      "cell_type": "code",
      "source": [
        "# 손글씨 숫자 학습 신경망 구현\n",
        "# 2층 신경망을 하나의 클래스로 구현한다. ( TwoLayerNet / ch04/two_layer_net.py )\n",
        "\n",
        "import sys, os\n",
        "sys.path.append(os.pardir)\n",
        "from common.functions import *\n",
        "from common.gradient import numerical_gradient\n",
        "\n",
        "class TwoLayerNet:\n",
        "  def __init__(self, input_size, hidden_size, output_size,\n",
        "               weight_init_std = 0.01):\n",
        "    \n",
        "    # 가중치 초기화\n",
        "    self.params = {}\n",
        "    self.params['W1'] = weight_init_std * \\\n",
        "                        np.random.randn(input_size, hidden_size)\n",
        "    self.params['b1'] = np.zeros(hidden_size)\n",
        "    self.params['W2'] = weight_init_std * \\\n",
        "                        np.random.randn(hidden_size, output_size)\n",
        "    self.params['b2'] = np.zeros(output_size)\n",
        "\n",
        "  def predict(self, x):\n",
        "    W1, W2 = self.params['W1'], self.params['W2']\n",
        "    b1, b2 = self.params['b1'], self.params['b2']\n",
        "\n",
        "    a1 = np.dot(x, W1) + b1\n",
        "    z1 = sigmoid(a1)\n",
        "    a2 = np.dot(z1, W2) + b2\n",
        "    y = softmax(a2)\n",
        "\n",
        "    return y\n",
        "\n",
        "  # x : 입력 데이터, t : 정답 레이블\n",
        "  def loss(self, x, t):\n",
        "    y = self.predict(x)\n",
        "\n",
        "    return cross_entropy_error(y, t)\n",
        "\n",
        "  def accuracy(self, x, t):\n",
        "    y = self.predict(x)\n",
        "    y = np.argmax(y, axis = 1)\n",
        "    t = np.argmax(t, axis = 1)\n",
        "\n",
        "    accuracy = np.sum(y == t) / float(x.shpae[0])\n",
        "    return accuracy\n",
        "\n",
        "  # x : 입력 데이터, t : 정답 레이블 \n",
        "  def numerical_gradient(self, x, t):\n",
        "    loss_W = lambda W : self.loss(x, t)\n",
        "\n",
        "    grads = {}\n",
        "    grads['W1'] = numerical_gradient(loss_W, self.params['W1'])\n",
        "    grads['b1'] = numerical_gradient(loss_W, self.params['b1'])\n",
        "    grads['W2'] = numerical_gradient(loss_W, self.params['W2'])\n",
        "    grads['b2'] = numerical_gradient(loss_W, self.params['b2'])\n",
        "\n",
        "    return grads"
      ],
      "metadata": {
        "id": "ywEGaZhsG-dF"
      },
      "execution_count": 7,
      "outputs": []
    },
    {
      "cell_type": "code",
      "source": [
        "net = TwoLayerNet(input_size = 784, hidden_size = 100, output_size = 10) # 이미지 데이터가 28*28 이미지 데이터로 입력 N * 784 의 사이즈로 입력 됨 / 출력층은 0~9 까지의 숫자\n",
        "print(net.params['W1'].shape)\n",
        "print(net.params['b1'].shape)\n",
        "print(net.params['W2'].shape)\n",
        "print(net.params['b2'].shape)"
      ],
      "metadata": {
        "colab": {
          "base_uri": "https://localhost:8080/"
        },
        "id": "Qk35qY5DQ_Ci",
        "outputId": "2c8991f1-5e31-4822-bf8c-e39fd460c54d"
      },
      "execution_count": 8,
      "outputs": [
        {
          "output_type": "stream",
          "name": "stdout",
          "text": [
            "(784, 100)\n",
            "(100,)\n",
            "(100, 10)\n",
            "(10,)\n"
          ]
        }
      ]
    },
    {
      "cell_type": "markdown",
      "source": [
        "TwoLayerNet 클래스 내 변수\n",
        "\n",
        "- params : { 매개변수 $W$ 가중치와 $b$ 편향을 저장하는 딕셔너리 }\n",
        "- grads : { numerical_gradient / $\\frac{\\partial L}{\\partial W}$ 가중치의 기울기와 $\\frac{\\partial L}{\\partial b}$ 편향의 기울기를 저장하는 딕셔너리다 }\n",
        "\n",
        "TwoLayerNet 클래스 내 메서드\n",
        "\n",
        "- __init__(self, input_size, hidden_size, output_size) : 초기화 수행 (인수는 순서대로 입력층의 뉴런 수, 은닉층의 뉴런 수, 출력층의 뉴런 수)\n",
        "\n",
        "- predict(self, x) : 예측 수행 / x 는 이미지 데이터\n",
        "- loss(self, x, t) : 손실 함수의 값을 구한다. / x 는 이미지 데이터, t 는 정답 레이블\n",
        "- accuracy(self, x, t) : 정확도 계산\n",
        "- numerical_gradient(self, x, t) : 가중치 매개변수 기울기 계산"
      ],
      "metadata": {
        "id": "_LvcNpZHZvgB"
      }
    },
    {
      "cell_type": "code",
      "source": [
        "# 실제 예측 처리 방식\n",
        "\n",
        "x = np.random.randn(100, 784) # 더미 입력 데이터 (100장 이미지 데이터)\n",
        "t = np.random.randn(100, 10)  # 더미 정답 레이블 (100장 이미지 정답)\n",
        "\n",
        "grads = net.numerical_gradient(x, t)"
      ],
      "metadata": {
        "id": "2NADirRNfjD5"
      },
      "execution_count": 9,
      "outputs": []
    },
    {
      "cell_type": "code",
      "source": [
        "# 미니배치 학습 구현하기\n",
        "\n",
        "import numpy as np\n",
        "from dataset.mnist import load_mnist\n",
        "#from two_layer_net import TwoLayerNet    불러와야하지만 이 코드 내에서 이미 생성했기 때문에 그대로 사용\n",
        "\n",
        "(x_train, t_train), (x_test, t_test) = \\\n",
        "  load_mnist(normalize = True, one_hot_label = True)\n",
        "\n",
        "train_loss_list = []\n",
        "\n",
        "#하이퍼파라미터\n",
        "iters_num = 30 # 반복횟수\n",
        "train_size = x_train.shape[0]\n",
        "batch_size = 100 # 미니배치 크기\n",
        "learning_rate = 0.1\n",
        "\n",
        "network = TwoLayerNet(input_size = 784, hidden_size = 50, output_size = 10)\n",
        "\n",
        "for i in range(iters_num):\n",
        "  # 미니 배치 획득\n",
        "  batch_mask = np.random.choice(train_size, batch_size)\n",
        "  x_batch = x_train[batch_mask]\n",
        "  t_batch = t_train[batch_mask]\n",
        "\n",
        "  # 기울기 계산\n",
        "  grad = network.numerical_gradient(x_batch, t_batch)\n",
        "  # grad = network.gradient(x_batch, t_batch) #성능 개선판!\n",
        "\n",
        "  # 매개변수 갱신\n",
        "  for key in ('W1', 'b1', 'W2', 'b2'):\n",
        "    network.params[key] -= learning_rate * grad[key]\n",
        "\n",
        "  # 학습 경과 기록\n",
        "  loss = network.loss(x_batch, t_batch)\n",
        "  train_loss_list.append(loss)"
      ],
      "metadata": {
        "id": "fgJMKAHVmiGv"
      },
      "execution_count": 19,
      "outputs": []
    },
    {
      "cell_type": "code",
      "source": [
        "# iters_num = 5\n",
        "import matplotlib.pyplot as plt\n",
        "\n",
        "axis_y1 = train_loss_list\n",
        "axis_x = np.arange(5)\n",
        "plt.plot(axis_x, axis_y1)\n",
        "plt.xlabel('iteration')\n",
        "plt.ylabel('loss')"
      ],
      "metadata": {
        "id": "gc3aBOUWqiFI",
        "outputId": "5749b782-df09-4273-c669-06e2889337c6",
        "colab": {
          "base_uri": "https://localhost:8080/",
          "height": 298
        }
      },
      "execution_count": 18,
      "outputs": [
        {
          "output_type": "execute_result",
          "data": {
            "text/plain": [
              "Text(0, 0.5, 'loss')"
            ]
          },
          "metadata": {},
          "execution_count": 18
        },
        {
          "output_type": "display_data",
          "data": {
            "text/plain": [
              "<Figure size 432x288 with 1 Axes>"
            ],
            "image/png": "[encoded data removed]"
          },
          "metadata": {
            "needs_background": "light"
          }
        }
      ]
    },
    {
      "cell_type": "code",
      "source": [
        "print(train_loss_list)"
      ],
      "metadata": {
        "id": "VQeXbbtU7ejk",
        "outputId": "3f85bf13-83aa-41b0-be9a-47d0fee490c2",
        "colab": {
          "base_uri": "https://localhost:8080/"
        }
      },
      "execution_count": 16,
      "outputs": [
        {
          "output_type": "stream",
          "name": "stdout",
          "text": [
            "[2.2871252203764185, 2.287369612913516, 2.2979695085382867, 2.293793384783059, 2.2864934309317295]\n"
          ]
        }
      ]
    },
    {
      "cell_type": "code",
      "source": [
        "# iters_num = 30\n",
        "axis_y2 = train_loss_list\n",
        "axis_x = np.arange(30)\n",
        "plt.plot(axis_x, axis_y2)\n",
        "plt.xlabel('iteration')\n",
        "plt.ylabel('loss')"
      ],
      "metadata": {
        "id": "HSEDdHQB8LAM",
        "outputId": "6563b9c7-1f7e-4f40-d6de-6a53a6e0abf4",
        "colab": {
          "base_uri": "https://localhost:8080/",
          "height": 298
        }
      },
      "execution_count": 22,
      "outputs": [
        {
          "output_type": "execute_result",
          "data": {
            "text/plain": [
              "Text(0, 0.5, 'loss')"
            ]
          },
          "metadata": {},
          "execution_count": 22
        },
        {
          "output_type": "display_data",
          "data": {
            "text/plain": [
              "<Figure size 432x288 with 1 Axes>"
            ],
            "image/png": "[encoded data removed]"
          },
          "metadata": {
            "needs_background": "light"
          }
        }
      ]
    }
  ]
}