{
  "nbformat": 4,
  "nbformat_minor": 0,
  "metadata": {
    "colab": {
      "name": "1권 4장(3) 학습 알고리즘 구현.ipynb",
      "provenance": [],
      "authorship_tag": "ABX9TyPSCfaxEL+syO2ChHqi/c6n",
      "include_colab_link": true
    },
    "kernelspec": {
      "name": "python3",
      "display_name": "Python 3"
    },
    "language_info": {
      "name": "python"
    },
    "gpuClass": "standard"
  },
  "cells": [
    {
      "cell_type": "markdown",
      "metadata": {
        "id": "view-in-github",
        "colab_type": "text"
      },
      "source": [
        "<a href=\"https://colab.research.google.com/github/tirals88/Deep-Learning-from-Scratch/blob/main/1%EA%B6%8C_4%EC%9E%A5(3)_%ED%95%99%EC%8A%B5_%EC%95%8C%EA%B3%A0%EB%A6%AC%EC%A6%98_%EA%B5%AC%ED%98%84.ipynb\" target=\"_parent\"><img src=\"https://colab.research.google.com/assets/colab-badge.svg\" alt=\"Open In Colab\"/></a>"
      ]
    },
    {
      "cell_type": "code",
      "execution_count": 22,
      "metadata": {
        "id": "mYzE6Fdgaqmy"
      },
      "outputs": [],
      "source": [
        "import numpy as np\n",
        "import matplotlib.pyplot as plt"
      ]
    },
    {
      "cell_type": "code",
      "source": [
        "#드라이브연동\n",
        "from google.colab import drive\n",
        "drive.mount(\"/content/drive\")"
      ],
      "metadata": {
        "colab": {
          "base_uri": "https://localhost:8080/"
        },
        "id": "WHXiB0epa7XU",
        "outputId": "c70c5919-5b5a-4f83-8752-4fbaf13ed43a"
      },
      "execution_count": 7,
      "outputs": [
        {
          "output_type": "stream",
          "name": "stdout",
          "text": [
            "Mounted at /content/drive\n"
          ]
        }
      ]
    },
    {
      "cell_type": "code",
      "source": [
        "cd '/content/drive/My Drive/DLscratch/deep-learning-from-scratch/ch04'"
      ],
      "metadata": {
        "colab": {
          "base_uri": "https://localhost:8080/"
        },
        "id": "i1AOQCYt29R2",
        "outputId": "4cd0a5af-4fed-4f34-f6b1-d73ca3fddf1e"
      },
      "execution_count": 8,
      "outputs": [
        {
          "output_type": "stream",
          "name": "stdout",
          "text": [
            "/content/drive/My Drive/DLscratch/deep-learning-from-scratch/ch04\n"
          ]
        }
      ]
    },
    {
      "cell_type": "markdown",
      "source": [
        "# 학습 알고리즘 구현하기\n",
        "\n",
        "---\n",
        "\n",
        "- 전체적인 절차 !\n",
        "\n",
        "신경망에는 적응 가능한 가중치와 편향이 있고, 이 가중치와 편향을 훈련 데이터에 적응하도록 조정하는 과정을 '학습 ( training )'이라고 한다. 다음과 같은 4단계로 수행한다.\n",
        "\n",
        "- 1단계 - 미니배치\n",
        "\n",
        "훈련 데이터 중 일부를 무작위로 가져온다. 이렇게 선별한 데이터를 미니배치라 하며, 그 미니배치의 손실 함수 값을 줄이는 것이 목표이다."
      ],
      "metadata": {
        "id": "1w0uheJYC4Sj"
      }
    },
    {
      "cell_type": "code",
      "source": [
        "# 미니배치\n",
        "\n",
        "batch_mask = np.random.choice(60000, 10)\n",
        "print(batch_mask)"
      ],
      "metadata": {
        "colab": {
          "base_uri": "https://localhost:8080/"
        },
        "id": "aNEsg_c0Jg8N",
        "outputId": "b707f95b-3766-47db-cde9-47a7bb0302a5"
      },
      "execution_count": null,
      "outputs": [
        {
          "output_type": "stream",
          "name": "stdout",
          "text": [
            "[ 1116 21063 23281 40060 23019 42387 38044 30782 16284 40066]\n"
          ]
        }
      ]
    },
    {
      "cell_type": "code",
      "source": [
        "# np.argamx() 이해\n",
        "\n",
        "x = np.array([[.1, .7, .2], [.3, .1, .6],[.2, .5, .3],[.8, .1, .1]])\n",
        "y= np.argmax(x)\n",
        "print(y) # x.reshape(1, x.size) 한 이후 나온 index 와 같음\n",
        "\n",
        "x2 = np.array([[1, 2, 3], [9, 8, 7], [10, 12, 11], [5, 6, 7]])\n",
        "y2 = np.argmax(x2,axis = 0)\n",
        "y3 = np.argmax(x2,axis = 1)\n",
        "\n",
        "print(y2, y3)\n",
        "\n",
        "# axis = 0 , 1 -> y, x 축 순 ( 0차원 , 1차원 순 임)"
      ],
      "metadata": {
        "colab": {
          "base_uri": "https://localhost:8080/"
        },
        "id": "vtMomQAOC2r5",
        "outputId": "4143c887-6eba-4702-a2f0-2d27af1e4e75"
      },
      "execution_count": null,
      "outputs": [
        {
          "output_type": "stream",
          "name": "stdout",
          "text": [
            "9\n",
            "[2 2 2] [2 0 1 2]\n"
          ]
        }
      ]
    },
    {
      "cell_type": "markdown",
      "source": [
        "- 2단계 - 기울기 산출\n",
        "\n",
        "미니배치의 손실 함수 값을 줄이기 위해 각 가중치 매개변수의 기울기를 구한다. 기울기는 손실 함수의 값을 가장 작게하는 방향을 제시한다.\n",
        "\n",
        "- 3단계 - 매개변수 갱신\n",
        "\n",
        "가중치 매개변수를 기울기 방향으로 아주 조금 갱신한다.\n",
        "\n",
        "- 4단계  - 반복\n",
        "\n",
        "1~3단계를 반복한다."
      ],
      "metadata": {
        "id": "F0PdwPeCJI6c"
      }
    },
    {
      "cell_type": "markdown",
      "source": [
        "위 과정은 경사 하강법으로 매개변수를 갱신하는 방법이며, 이 때 데이터를 미니배치로 무작위로 선정하기 때문에 확률적 경사 하강법이라고 부른다. - SGD"
      ],
      "metadata": {
        "id": "kuctgAo_QQpl"
      }
    },
    {
      "cell_type": "code",
      "source": [
        "# 손글씨 숫자 학습 신경망 구현\n",
        "# 2층 신경망을 하나의 클래스로 구현한다. ( TwoLayerNet / ch04/two_layer_net.py )\n",
        "\n",
        "import sys, os\n",
        "sys.path.append(os.pardir)\n",
        "from common.functions import *\n",
        "from common.gradient import numerical_gradient\n",
        "\n",
        "class TwoLayerNet:\n",
        "  def __init__(self, input_size, hidden_size, output_size,\n",
        "               weight_init_std = 0.01):\n",
        "    \n",
        "    # 가중치 초기화\n",
        "    self.params = {}\n",
        "    self.params['W1'] = weight_init_std * \\\n",
        "                        np.random.randn(input_size, hidden_size)\n",
        "    self.params['b1'] = np.zeros(hidden_size)\n",
        "    self.params['W2'] = weight_init_std * \\\n",
        "                        np.random.randn(hidden_size, output_size)\n",
        "    self.params['b2'] = np.zeros(output_size)\n",
        "\n",
        "  def predict(self, x):\n",
        "    W1, W2 = self.params['W1'], self.params['W2']\n",
        "    b1, b2 = self.params['b1'], self.params['b2']\n",
        "\n",
        "    a1 = np.dot(x, W1) + b1\n",
        "    z1 = sigmoid(a1)\n",
        "    a2 = np.dot(z1, W2) + b2\n",
        "    y = softmax(a2)\n",
        "\n",
        "    return y\n",
        "\n",
        "  # x : 입력 데이터, t : 정답 레이블\n",
        "  def loss(self, x, t):\n",
        "    y = self.predict(x)\n",
        "\n",
        "    return cross_entropy_error(y, t)\n",
        "\n",
        "  def accuracy(self, x, t):\n",
        "    y = self.predict(x)\n",
        "    y = np.argmax(y, axis = 1)\n",
        "    t = np.argmax(t, axis = 1)\n",
        "\n",
        "    accuracy = np.sum(y == t) / float(x.shape[0])\n",
        "    return accuracy\n",
        "\n",
        "  # x : 입력 데이터, t : 정답 레이블 \n",
        "  def numerical_gradient(self, x, t):\n",
        "    loss_W = lambda W : self.loss(x, t)\n",
        "\n",
        "    grads = {}\n",
        "    grads['W1'] = numerical_gradient(loss_W, self.params['W1'])\n",
        "    grads['b1'] = numerical_gradient(loss_W, self.params['b1'])\n",
        "    grads['W2'] = numerical_gradient(loss_W, self.params['W2'])\n",
        "    grads['b2'] = numerical_gradient(loss_W, self.params['b2'])\n",
        "\n",
        "    return grads"
      ],
      "metadata": {
        "id": "ywEGaZhsG-dF"
      },
      "execution_count": 16,
      "outputs": []
    },
    {
      "cell_type": "code",
      "source": [
        "net = TwoLayerNet(input_size = 784, hidden_size = 100, output_size = 10) # 이미지 데이터가 28*28 이미지 데이터로 입력 N * 784 의 사이즈로 입력 됨 / 출력층은 0~9 까지의 숫자\n",
        "print(net.params['W1'].shape)\n",
        "print(net.params['b1'].shape)\n",
        "print(net.params['W2'].shape)\n",
        "print(net.params['b2'].shape)"
      ],
      "metadata": {
        "colab": {
          "base_uri": "https://localhost:8080/"
        },
        "id": "Qk35qY5DQ_Ci",
        "outputId": "2c8991f1-5e31-4822-bf8c-e39fd460c54d"
      },
      "execution_count": null,
      "outputs": [
        {
          "output_type": "stream",
          "name": "stdout",
          "text": [
            "(784, 100)\n",
            "(100,)\n",
            "(100, 10)\n",
            "(10,)\n"
          ]
        }
      ]
    },
    {
      "cell_type": "markdown",
      "source": [
        "TwoLayerNet 클래스 내 변수\n",
        "\n",
        "- params : { 매개변수 $W$ 가중치와 $b$ 편향을 저장하는 딕셔너리 }\n",
        "- grads : { numerical_gradient / $\\frac{\\partial L}{\\partial W}$ 가중치의 기울기와 $\\frac{\\partial L}{\\partial b}$ 편향의 기울기를 저장하는 딕셔너리다 }\n",
        "\n",
        "TwoLayerNet 클래스 내 메서드\n",
        "\n",
        "- __init__(self, input_size, hidden_size, output_size) : 초기화 수행 (인수는 순서대로 입력층의 뉴런 수, 은닉층의 뉴런 수, 출력층의 뉴런 수)\n",
        "\n",
        "- predict(self, x) : 예측 수행 / x 는 이미지 데이터\n",
        "- loss(self, x, t) : 손실 함수의 값을 구한다. / x 는 이미지 데이터, t 는 정답 레이블\n",
        "- accuracy(self, x, t) : 정확도 계산\n",
        "- numerical_gradient(self, x, t) : 가중치 매개변수 기울기 계산"
      ],
      "metadata": {
        "id": "_LvcNpZHZvgB"
      }
    },
    {
      "cell_type": "code",
      "source": [
        "# 실제 예측 처리 방식\n",
        "\n",
        "x = np.random.randn(100, 784) # 더미 입력 데이터 (100장 이미지 데이터)\n",
        "t = np.random.randn(100, 10)  # 더미 정답 레이블 (100장 이미지 정답)\n",
        "\n",
        "grads = net.numerical_gradient(x, t)"
      ],
      "metadata": {
        "id": "2NADirRNfjD5"
      },
      "execution_count": null,
      "outputs": []
    },
    {
      "cell_type": "code",
      "source": [
        "# 미니배치 학습 구현하기\n",
        "\n",
        "import numpy as np\n",
        "from dataset.mnist import load_mnist\n",
        "#from two_layer_net import TwoLayerNet    불러와야하지만 이 코드 내에서 이미 생성했기 때문에 그대로 사용\n",
        "\n",
        "(x_train, t_train), (x_test, t_test) = \\\n",
        "  load_mnist(normalize = True, one_hot_label = True)\n",
        "\n",
        "train_loss_list = []\n",
        "\n",
        "#하이퍼파라미터\n",
        "iters_num = 30 # 반복횟수\n",
        "train_size = x_train.shape[0]\n",
        "batch_size = 100 # 미니배치 크기\n",
        "learning_rate = 0.1\n",
        "\n",
        "network = TwoLayerNet(input_size = 784, hidden_size = 50, output_size = 10)\n",
        "\n",
        "for i in range(iters_num):\n",
        "  # 미니 배치 획득\n",
        "  batch_mask = np.random.choice(train_size, batch_size)\n",
        "  x_batch = x_train[batch_mask]\n",
        "  t_batch = t_train[batch_mask]\n",
        "\n",
        "  # 기울기 계산\n",
        "  grad = network.numerical_gradient(x_batch, t_batch)\n",
        "  # grad = network.gradient(x_batch, t_batch) #성능 개선판!\n",
        "\n",
        "  # 매개변수 갱신\n",
        "  for key in ('W1', 'b1', 'W2', 'b2'):\n",
        "    network.params[key] -= learning_rate * grad[key]\n",
        "\n",
        "  # 학습 경과 기록\n",
        "  loss = network.loss(x_batch, t_batch)\n",
        "  train_loss_list.append(loss)"
      ],
      "metadata": {
        "id": "fgJMKAHVmiGv"
      },
      "execution_count": null,
      "outputs": []
    },
    {
      "cell_type": "code",
      "source": [
        "# iters_num = 5\n",
        "import matplotlib.pyplot as plt\n",
        "\n",
        "axis_y1 = train_loss_list\n",
        "axis_x = np.arange(5)\n",
        "plt.plot(axis_x, axis_y1)\n",
        "plt.xlabel('iteration')\n",
        "plt.ylabel('loss')"
      ],
      "metadata": {
        "id": "gc3aBOUWqiFI",
        "outputId": "5749b782-df09-4273-c669-06e2889337c6",
        "colab": {
          "base_uri": "https://localhost:8080/",
          "height": 298
        }
      },
      "execution_count": null,
      "outputs": [
        {
          "output_type": "execute_result",
          "data": {
            "text/plain": [
              "Text(0, 0.5, 'loss')"
            ]
          },
          "metadata": {},
          "execution_count": 18
        },
        {
          "output_type": "display_data",
          "data": {
            "text/plain": [
              "<Figure size 432x288 with 1 Axes>"
            ],
            "image/png": "[encoded data removed]"
          },
          "metadata": {
            "needs_background": "light"
          }
        }
      ]
    },
    {
      "cell_type": "code",
      "source": [
        "print(train_loss_list)"
      ],
      "metadata": {
        "id": "VQeXbbtU7ejk",
        "outputId": "3f85bf13-83aa-41b0-be9a-47d0fee490c2",
        "colab": {
          "base_uri": "https://localhost:8080/"
        }
      },
      "execution_count": null,
      "outputs": [
        {
          "output_type": "stream",
          "name": "stdout",
          "text": [
            "[2.2871252203764185, 2.287369612913516, 2.2979695085382867, 2.293793384783059, 2.2864934309317295]\n"
          ]
        }
      ]
    },
    {
      "cell_type": "code",
      "source": [
        "# iters_num = 30\n",
        "axis_y2 = train_loss_list\n",
        "axis_x = np.arange(30)\n",
        "plt.plot(axis_x, axis_y2)\n",
        "plt.xlabel('iteration')\n",
        "plt.ylabel('loss')"
      ],
      "metadata": {
        "id": "HSEDdHQB8LAM",
        "outputId": "6563b9c7-1f7e-4f40-d6de-6a53a6e0abf4",
        "colab": {
          "base_uri": "https://localhost:8080/",
          "height": 298
        }
      },
      "execution_count": null,
      "outputs": [
        {
          "output_type": "execute_result",
          "data": {
            "text/plain": [
              "Text(0, 0.5, 'loss')"
            ]
          },
          "metadata": {},
          "execution_count": 22
        },
        {
          "output_type": "display_data",
          "data": {
            "text/plain": [
              "<Figure size 432x288 with 1 Axes>"
            ],
            "image/png": "[encoded data removed]"
          },
          "metadata": {
            "needs_background": "light"
          }
        }
      ]
    },
    {
      "cell_type": "markdown",
      "source": [
        "# 시험 데이터로 평가하기\n",
        "---\n",
        "\n",
        "학습을 반복함으로써 손실 함수의 값이 서서히 내려가는 것을 확인 할 수 있다.\n",
        "\n",
        "이때의 손실함수의 값은 정확히는 '**훈련 데이터의 미니배치에 대한 손실 함수**'의 값이다.\n",
        "\n",
        "훈련 데이터의 손실 함수 값이 작아지는 것은 신경망이 잘 학습하고 있다는 방증이지만, 이 결과만으로는 다른 데이터셋에도 비슷한 실력을 발휘할지는 확실하지 않다.\n",
        "\n",
        "👉 그래서 훈련 데이터 외의 데이터를 올바르게 인식하는지를 환인해야한다.\n",
        "\n",
        "👉 다른 말로 '오버피팅'을 일으키지 않는지 확인해야 한다.\n",
        "\n",
        "**오버피팅**이 되었다는 것은, 예를 들어 훈련 데이터에 포함된 이미지만 제대로 구분하고, 그렇지 않은 이미지는 식별할 수 없다는 뜻이다.\n",
        "\n",
        "신경망 학습의 원래 목표는 범용적인 능력을 익히는 것이다.\n",
        "\n",
        "범용적인 능력을 평가하기 위해 훈련 데이터에 포함되지 않은 데이터를 사용해 평가를 해봐야한다.\n",
        "\n",
        "👉 이를 위해 다음 구현에서는 학습 도중 정기적으로 훈련 데이터와 시험 데이터를 대상으로 정확도를 기록한다.\n",
        "\n",
        "여기에서는 1에폭별로 훈련 데이터와 시험데이터에 대한 정확도를 기록한다\n",
        "\n",
        "< epoch > : 에폭은 하나의 단위로서 1에폭은 학습에서 훈련데이터를 모두 소진했을 때의 횟수에 해당한다. 확률적 경사 하강법을 100회 하였다면 100회가 1 에폭이 된다.\n",
        "\n"
      ],
      "metadata": {
        "id": "mc25LtyPd4ep"
      }
    },
    {
      "cell_type": "code",
      "source": [
        "# 위 구현에서 평가를 추가함\n",
        "\n",
        "import numpy as np\n",
        "from dataset.mnist import load_mnist\n",
        "#from two_layer_net import TwoLayerNet    불러와야하지만 이 코드 내에서 이미 생성했기 때문에 그대로 사용\n",
        "\n",
        "(x_train, t_train), (x_test, t_test) = \\\n",
        "  load_mnist(normalize = True, one_hot_label = True)\n",
        "\n",
        "train_loss_list = []\n",
        "train_acc_list = []\n",
        "test_acc_list = []\n",
        "\n",
        "#하이퍼파라미터\n",
        "iters_num = 60 # 반복횟수\n",
        "train_size = x_train.shape[0]\n",
        "batch_size = 60 # 미니배치 크기\n",
        "learning_rate = 0.1\n",
        "\n",
        "network = TwoLayerNet(input_size = 784, hidden_size = 50, output_size = 10)\n",
        "\n",
        "# 1 에폭당 반복 수\n",
        "iter_per_epoch = max(train_size / batch_size, 1)\n",
        "\n",
        "for i in range(iters_num):\n",
        "  # 미니 배치 획득\n",
        "  batch_mask = np.random.choice(train_size, batch_size)\n",
        "  x_batch = x_train[batch_mask]\n",
        "  t_batch = t_train[batch_mask]\n",
        "\n",
        "  # 기울기 계산\n",
        "  grad = network.numerical_gradient(x_batch, t_batch)\n",
        "  # grad = network.gradient(x_batch, t_batch) #성능 개선판!\n",
        "\n",
        "  # 매개변수 갱신\n",
        "  for key in ('W1', 'b1', 'W2', 'b2'):\n",
        "    network.params[key] -= learning_rate * grad[key]\n",
        "\n",
        "  # 학습 경과 기록\n",
        "  loss = network.loss(x_batch, t_batch)\n",
        "  train_loss_list.append(loss)\n",
        "\n",
        "# 1에폭 당 정확도 계산\n",
        "# if i % iter_per_epoch == 0 : ( 예제에서는 iters_num = 10000 이기 때문에 iter_per_epoch 을 60으로 뒀지만 이 평가에서는 1로 두겠다)\n",
        "\n",
        "  if i % 1 == 0:\n",
        "    train_acc = network.accuracy(x_train, t_train)\n",
        "    test_acc = network.accuracy(x_test, t_test)\n",
        "    train_acc_list.append(train_acc)\n",
        "    test_acc_list.append(test_acc)\n",
        "    print(\"train acc, test acc : \"\n",
        "        + str(train_acc) + \", \" + str(test_acc))"
      ],
      "metadata": {
        "id": "NCEDNcV-dHtr",
        "outputId": "bd0185d7-e106-4c86-f96a-1b36a5834b72",
        "colab": {
          "base_uri": "https://localhost:8080/"
        }
      },
      "execution_count": 20,
      "outputs": [
        {
          "output_type": "stream",
          "name": "stdout",
          "text": [
            "train acc, test acc : 0.09035, 0.0892\n",
            "train acc, test acc : 0.09288333333333333, 0.0929\n",
            "train acc, test acc : 0.09863333333333334, 0.0958\n",
            "train acc, test acc : 0.10218333333333333, 0.101\n",
            "train acc, test acc : 0.09863333333333334, 0.0958\n",
            "train acc, test acc : 0.09861666666666667, 0.0958\n",
            "train acc, test acc : 0.11236666666666667, 0.1135\n",
            "train acc, test acc : 0.11236666666666667, 0.1135\n",
            "train acc, test acc : 0.11236666666666667, 0.1135\n",
            "train acc, test acc : 0.16878333333333334, 0.1622\n",
            "train acc, test acc : 0.09863333333333334, 0.0958\n",
            "train acc, test acc : 0.09863333333333334, 0.0958\n",
            "train acc, test acc : 0.09863333333333334, 0.0958\n",
            "train acc, test acc : 0.09035, 0.0892\n",
            "train acc, test acc : 0.10441666666666667, 0.1028\n",
            "train acc, test acc : 0.10441666666666667, 0.1028\n",
            "train acc, test acc : 0.11171666666666667, 0.1089\n",
            "train acc, test acc : 0.10441666666666667, 0.1028\n",
            "train acc, test acc : 0.10441666666666667, 0.1028\n",
            "train acc, test acc : 0.11236666666666667, 0.1135\n",
            "train acc, test acc : 0.09865, 0.0957\n",
            "train acc, test acc : 0.17353333333333334, 0.1728\n",
            "train acc, test acc : 0.0993, 0.1032\n",
            "train acc, test acc : 0.09915, 0.1009\n",
            "train acc, test acc : 0.09915, 0.1009\n",
            "train acc, test acc : 0.0993, 0.1032\n",
            "train acc, test acc : 0.09915, 0.1009\n",
            "train acc, test acc : 0.0993, 0.1032\n",
            "train acc, test acc : 0.09915, 0.1009\n",
            "train acc, test acc : 0.09915, 0.1009\n",
            "train acc, test acc : 0.09751666666666667, 0.0974\n",
            "train acc, test acc : 0.09751666666666667, 0.0974\n",
            "train acc, test acc : 0.09751666666666667, 0.0974\n",
            "train acc, test acc : 0.09751666666666667, 0.0974\n",
            "train acc, test acc : 0.09915, 0.1009\n",
            "train acc, test acc : 0.09751666666666667, 0.0974\n",
            "train acc, test acc : 0.09751666666666667, 0.0974\n",
            "train acc, test acc : 0.09751666666666667, 0.0974\n",
            "train acc, test acc : 0.09751666666666667, 0.0974\n",
            "train acc, test acc : 0.09751666666666667, 0.0974\n",
            "train acc, test acc : 0.09786666666666667, 0.0977\n",
            "train acc, test acc : 0.09751666666666667, 0.0974\n",
            "train acc, test acc : 0.09751666666666667, 0.0974\n",
            "train acc, test acc : 0.09751666666666667, 0.0974\n",
            "train acc, test acc : 0.13455, 0.1337\n",
            "train acc, test acc : 0.09871666666666666, 0.098\n",
            "train acc, test acc : 0.09871666666666666, 0.098\n",
            "train acc, test acc : 0.09871666666666666, 0.098\n",
            "train acc, test acc : 0.09923333333333334, 0.0986\n",
            "train acc, test acc : 0.09871666666666666, 0.098\n",
            "train acc, test acc : 0.20831666666666668, 0.2097\n",
            "train acc, test acc : 0.10441666666666667, 0.1028\n",
            "train acc, test acc : 0.11236666666666667, 0.1135\n",
            "train acc, test acc : 0.19613333333333333, 0.1982\n",
            "train acc, test acc : 0.09871666666666666, 0.098\n",
            "train acc, test acc : 0.11236666666666667, 0.1135\n",
            "train acc, test acc : 0.11236666666666667, 0.1135\n",
            "train acc, test acc : 0.2586, 0.2582\n",
            "train acc, test acc : 0.09871666666666666, 0.098\n",
            "train acc, test acc : 0.10218333333333333, 0.101\n"
          ]
        }
      ]
    },
    {
      "cell_type": "code",
      "source": [
        "# batch_size = 60, iters_num = 60\n",
        "axis_y2 = train_acc_list\n",
        "axis_y3 = test_acc_list\n",
        "axis_x = np.arange(60)\n",
        "plt.plot(axis_x, axis_y2, label = 'train_acc')\n",
        "plt.plot(axis_x, axis_y3, label = 'test_acc')\n",
        "plt.xlabel('epoch')\n",
        "plt.ylabel('accuracy')\n",
        "plt.legend()\n",
        "\n",
        "plt.show()"
      ],
      "metadata": {
        "id": "J2rTbmal2nGY",
        "outputId": "9d4dc13e-ffef-420d-b485-3e8b41619ca6",
        "colab": {
          "base_uri": "https://localhost:8080/",
          "height": 279
        }
      },
      "execution_count": 27,
      "outputs": [
        {
          "output_type": "display_data",
          "data": {
            "text/plain": [
              "<Figure size 432x288 with 1 Axes>"
            ],
            "image/png": "[encoded data removed]"
          },
          "metadata": {
            "needs_background": "light"
          }
        }
      ]
    },
    {
      "cell_type": "markdown",
      "source": [
        "학습 정체기 발생으로 초기화 후 재진행\n",
        "\n",
        "![image.png](data:image/png;base64,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)"
      ],
      "metadata": {
        "id": "WoMMp8nYoDs2"
      }
    },
    {
      "cell_type": "markdown",
      "source": [
        "거의 학습은 하나도 안된 것 같고 우연히 상승한 정확도 같지만 일단 완성!\n",
        "\n",
        "numpy 너무 느리다..."
      ],
      "metadata": {
        "id": "JsqdaSHr4J8u"
      }
    }
  ]
}