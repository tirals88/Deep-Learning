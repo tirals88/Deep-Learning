{
  "nbformat": 4,
  "nbformat_minor": 0,
  "metadata": {
    "colab": {
      "name": "useful_functions.ipynb",
      "provenance": [],
      "authorship_tag": "ABX9TyNPVSt9/MvQM3miFxcRqcbE",
      "include_colab_link": true
    },
    "kernelspec": {
      "name": "python3",
      "display_name": "Python 3"
    },
    "language_info": {
      "name": "python"
    },
    "gpuClass": "standard"
  },
  "cells": [
    {
      "cell_type": "markdown",
      "metadata": {
        "id": "view-in-github",
        "colab_type": "text"
      },
      "source": [
        "<a href=\"https://colab.research.google.com/github/tirals88/Deep-Learning-from-Scratch/blob/main/useful_functions.ipynb\" target=\"_parent\"><img src=\"https://colab.research.google.com/assets/colab-badge.svg\" alt=\"Open In Colab\"/></a>"
      ]
    },
    {
      "cell_type": "code",
      "execution_count": 1,
      "metadata": {
        "id": "gZ91E3Y0GrnN"
      },
      "outputs": [],
      "source": [
        "import numpy as np\n",
        "import matplotlib as plt"
      ]
    },
    {
      "cell_type": "markdown",
      "source": [
        "#1. enumerate() 함수 : 인덱스와 원소 동시 접근\n"
      ],
      "metadata": {
        "id": "-0ywDhJ1Hq2k"
      }
    },
    {
      "cell_type": "code",
      "source": [
        "A = ['A', 'B', 'C']\n",
        "\n",
        "for idx, x in enumerate(A):\n",
        "  print(idx, x)"
      ],
      "metadata": {
        "colab": {
          "base_uri": "https://localhost:8080/"
        },
        "id": "GJaKsyYaHDrB",
        "outputId": "8b59640f-6a3b-42ac-a91a-0c384d532219"
      },
      "execution_count": 6,
      "outputs": [
        {
          "output_type": "stream",
          "name": "stdout",
          "text": [
            "0 A\n",
            "1 B\n",
            "2 C\n"
          ]
        }
      ]
    },
    {
      "cell_type": "code",
      "source": [
        "for entry in enumerate(A):\n",
        "  print(entry)"
      ],
      "metadata": {
        "colab": {
          "base_uri": "https://localhost:8080/"
        },
        "id": "HBdCtd9gHZdv",
        "outputId": "e72c0cb9-efa8-4014-e981-94d0b9ccbb36"
      },
      "execution_count": 7,
      "outputs": [
        {
          "output_type": "stream",
          "name": "stdout",
          "text": [
            "(0, 'A')\n",
            "(1, 'B')\n",
            "(2, 'C')\n"
          ]
        }
      ]
    },
    {
      "cell_type": "code",
      "source": [
        "for idx, x in enumerate(A, start = 5):\n",
        "  print(idx, x)"
      ],
      "metadata": {
        "colab": {
          "base_uri": "https://localhost:8080/"
        },
        "id": "DzUHj3SqHzhX",
        "outputId": "b94b5aac-fad3-409e-a277-d945db7fbcf1"
      },
      "execution_count": 11,
      "outputs": [
        {
          "output_type": "stream",
          "name": "stdout",
          "text": [
            "5 A\n",
            "6 B\n",
            "7 C\n"
          ]
        }
      ]
    },
    {
      "cell_type": "code",
      "source": [
        "B = [['A', 'B', 'C'],['D', 'E', 'F'],['G','H','I']]\n",
        "\n",
        "for r, row in enumerate(B):\n",
        "  for c, column in enumerate(B[r]):\n",
        "    print(r, c, column)"
      ],
      "metadata": {
        "colab": {
          "base_uri": "https://localhost:8080/"
        },
        "id": "E2AqQkG5H91S",
        "outputId": "38a251a4-440f-4c17-d25b-77da93f4b8d6"
      },
      "execution_count": 14,
      "outputs": [
        {
          "output_type": "stream",
          "name": "stdout",
          "text": [
            "0 0 A\n",
            "0 1 B\n",
            "0 2 C\n",
            "1 0 D\n",
            "1 1 E\n",
            "1 2 F\n",
            "2 0 G\n",
            "2 1 H\n",
            "2 2 I\n"
          ]
        }
      ]
    },
    {
      "cell_type": "code",
      "source": [
        ""
      ],
      "metadata": {
        "id": "3VSCebw8Moq2"
      },
      "execution_count": null,
      "outputs": []
    }
  ]
}